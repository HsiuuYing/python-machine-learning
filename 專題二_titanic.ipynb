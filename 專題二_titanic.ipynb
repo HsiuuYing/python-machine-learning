{
  "nbformat": 4,
  "nbformat_minor": 0,
  "metadata": {
    "colab": {
      "provenance": [],
      "include_colab_link": true
    },
    "kernelspec": {
      "name": "python3",
      "display_name": "Python 3"
    },
    "language_info": {
      "name": "python"
    }
  },
  "cells": [
    {
      "cell_type": "markdown",
      "metadata": {
        "id": "view-in-github",
        "colab_type": "text"
      },
      "source": [
        "<a href=\"https://colab.research.google.com/github/HsiuuYing/python-machine-learning/blob/main/%E5%B0%88%E9%A1%8C%E4%BA%8C_titanic.ipynb\" target=\"_parent\"><img src=\"https://colab.research.google.com/assets/colab-badge.svg\" alt=\"Open In Colab\"/></a>"
      ]
    },
    {
      "cell_type": "markdown",
      "source": [
        "## Datasets Source\n",
        "This dataset was from OSMH/OSMI Mental Health in Tech Survey 2014:\n",
        "https://osmihelp.org/research\n",
        "\n",
        "## Dataset Information\n",
        "This dataset is from a 2014 survey that measures attitudes towards mental health and frequency of mental health disorders in the tech workplace. This training dataset contains 1007 records, including 510 persons who sought treatment for a mental health condition and 497 persons without seeking treatment. To study this dataset, it may help to assist companies in making supportive environments for those impacted by mental health disorders. The \"treatment\" field is a class label used to divide into groups (sought treatment or not).\n",
        "\n",
        "## Attribute Information:\n",
        "This dataset contains the following data:\n",
        "\n",
        "1. Age\n",
        "2. Gender\n",
        "3. self_employed: Are you self-employed?\n",
        "4. family_history: Do you have a family history of mental illness?\n",
        "5. work_interfere: If you have a mental health condition, do you feel that it interferes with your work?\n",
        "6. no_employees: How many employees does your company or organization have?\n",
        "remote_work: Do you work remotely (outside of an office) at least 50% of the time?\n",
        "7. tech_company: Is your employer primarily a tech company/organization?\n",
        "8. benefits: Does your employer provide mental health benefits?\n",
        "9. care_options: Do you know the options for mental health care your employer provides?\n",
        "10. wellness_program: Has your employer ever discussed mental health as part of an employee wellness program?\n",
        "11. seek_help: Does your employer provide resources to learn more about mental health issues and how to seek help?\n",
        "12. anonymity: Is your anonymity protected if you choose to take advantage of mental health or substance abuse treatment resources?\n",
        "13. leave: How easy is it for you to take medical leave for a mental health condition?\n",
        "14. mentalhealthconsequence: Do you think that discussing a mental health issue with your employer would have negative consequences?\n",
        "15. physhealthconsequence: Do you think that discussing a physical health issue with your employer would have negative consequences?\n",
        "16. coworkers: Would you be willing to discuss a mental health issue with your coworkers?\n",
        "17. supervisor: Would you be willing to discuss a mental health issue with your direct supervisor(s)?\n",
        "18. mentalhealthinterview: Would you bring up a mental health issue with a potential employer in an interview?\n",
        "19. physhealthinterview: Would you bring up a physical health issue with a potential employer in an interview?\n",
        "20. mentalvsphysical: Do you feel that your employer takes mental health as seriously as physical health?\n",
        "21. obs_consequence: Have you heard of or observed negative consequences for coworkers with mental health conditions in your workplace?\n",
        "22. treatment: Have you sought treatment for a mental health condition?\n"
      ],
      "metadata": {
        "id": "bJ3UrZV7Y7Gy"
      }
    },
    {
      "cell_type": "markdown",
      "metadata": {
        "id": "wBUpGayg3AlQ"
      },
      "source": [
        "### Download the training set"
      ]
    },
    {
      "cell_type": "code",
      "source": [
        "# Download from Google Drive\n",
        "!gdown --id 1HZnYBOe8Z04UzK6T0BXeTH5oaU_ABjIz"
      ],
      "metadata": {
        "id": "4Zb-ONyJidmK",
        "colab": {
          "base_uri": "https://localhost:8080/"
        },
        "outputId": "c6b803d0-2ca8-4692-be06-2cbbcf43d6b0"
      },
      "execution_count": null,
      "outputs": [
        {
          "output_type": "stream",
          "name": "stdout",
          "text": [
            "/usr/local/lib/python3.8/dist-packages/gdown/cli.py:127: FutureWarning: Option `--id` was deprecated in version 4.3.1 and will be removed in 5.0. You don't need to pass it anymore to use a file ID.\n",
            "  warnings.warn(\n",
            "Downloading...\n",
            "From: https://drive.google.com/uc?id=1HZnYBOe8Z04UzK6T0BXeTH5oaU_ABjIz\n",
            "To: /content/project2.zip\n",
            "100% 19.2k/19.2k [00:00<00:00, 24.3MB/s]\n"
          ]
        }
      ]
    },
    {
      "cell_type": "code",
      "source": [
        "!unzip project2.zip\n",
        "# if seeing the message: \"replace project1_test.csv? [y]es, [n]o, [A]ll, [N]one, [r]ename:\"\n",
        "# you may enter \"A\""
      ],
      "metadata": {
        "id": "wX1Pwm0KijZX",
        "colab": {
          "base_uri": "https://localhost:8080/"
        },
        "outputId": "7a401e0e-bb77-4785-d9e7-e48b12e49203"
      },
      "execution_count": null,
      "outputs": [
        {
          "output_type": "stream",
          "name": "stdout",
          "text": [
            "Archive:  project2.zip\n",
            "replace project2_test.csv? [y]es, [n]o, [A]ll, [N]one, [r]ename: A\n",
            "  inflating: project2_test.csv       \n",
            "  inflating: project2_train.csv      \n"
          ]
        }
      ]
    },
    {
      "cell_type": "code",
      "source": [
        "%matplotlib inline\n",
        "import pandas as pd\n",
        "import numpy as np\n",
        "import matplotlib.pyplot as plt\n",
        "import seaborn as sns\n",
        "import warnings\n",
        "warnings.filterwarnings('ignore')"
      ],
      "metadata": {
        "id": "jRJof2yO2fM5"
      },
      "execution_count": null,
      "outputs": []
    },
    {
      "cell_type": "code",
      "metadata": {
        "id": "5oQAGaNFzIsW",
        "colab": {
          "base_uri": "https://localhost:8080/"
        },
        "outputId": "192f5eeb-7df0-41eb-cb43-8592d1c10f77"
      },
      "source": [
        "df = pd.read_csv('project2_train.csv')\n",
        "df.columns"
      ],
      "execution_count": null,
      "outputs": [
        {
          "output_type": "execute_result",
          "data": {
            "text/plain": [
              "Index(['Age', 'Gender', 'self_employed', 'family_history', 'work_interfere',\n",
              "       'no_employees', 'remote_work', 'tech_company', 'benefits',\n",
              "       'care_options', 'wellness_program', 'seek_help', 'anonymity', 'leave',\n",
              "       'mental_health_consequence', 'phys_health_consequence', 'coworkers',\n",
              "       'supervisor', 'mental_health_interview', 'phys_health_interview',\n",
              "       'mental_vs_physical', 'obs_consequence', 'treatment'],\n",
              "      dtype='object')"
            ]
          },
          "metadata": {},
          "execution_count": 80
        }
      ]
    },
    {
      "cell_type": "code",
      "metadata": {
        "id": "l4BxY-SuzRse",
        "colab": {
          "base_uri": "https://localhost:8080/",
          "height": 386
        },
        "outputId": "1b959cf1-4b33-4d81-f8c4-405332c1f8ff"
      },
      "source": [
        "df.head()\n",
        "\n",
        "# 處理缺失值、轉換很多"
      ],
      "execution_count": null,
      "outputs": [
        {
          "output_type": "execute_result",
          "data": {
            "text/plain": [
              "   Age  Gender self_employed family_history work_interfere    no_employees  \\\n",
              "0   37  Female           NaN             No          Often            6-25   \n",
              "1   44       M           NaN             No         Rarely  More than 1000   \n",
              "2   32    Male           NaN             No         Rarely            6-25   \n",
              "3   31    Male           NaN            Yes          Often          26-100   \n",
              "4   31    Male           NaN             No          Never         100-500   \n",
              "\n",
              "  remote_work tech_company    benefits care_options  ...               leave  \\\n",
              "0          No          Yes         Yes     Not sure  ...       Somewhat easy   \n",
              "1          No           No  Don't know           No  ...          Don't know   \n",
              "2          No          Yes          No           No  ...  Somewhat difficult   \n",
              "3          No          Yes          No          Yes  ...  Somewhat difficult   \n",
              "4         Yes          Yes         Yes           No  ...          Don't know   \n",
              "\n",
              "  mental_health_consequence phys_health_consequence     coworkers supervisor  \\\n",
              "0                        No                      No  Some of them        Yes   \n",
              "1                     Maybe                      No            No         No   \n",
              "2                        No                      No           Yes        Yes   \n",
              "3                       Yes                     Yes  Some of them         No   \n",
              "4                        No                      No  Some of them        Yes   \n",
              "\n",
              "  mental_health_interview phys_health_interview mental_vs_physical  \\\n",
              "0                      No                 Maybe                Yes   \n",
              "1                      No                    No         Don't know   \n",
              "2                     Yes                   Yes                 No   \n",
              "3                   Maybe                 Maybe                 No   \n",
              "4                     Yes                   Yes         Don't know   \n",
              "\n",
              "  obs_consequence treatment  \n",
              "0              No       Yes  \n",
              "1              No        No  \n",
              "2              No        No  \n",
              "3             Yes       Yes  \n",
              "4              No        No  \n",
              "\n",
              "[5 rows x 23 columns]"
            ],
            "text/html": [
              "\n",
              "  <div id=\"df-1da0ec23-bbf5-405e-bf93-1033f79fe4e4\">\n",
              "    <div class=\"colab-df-container\">\n",
              "      <div>\n",
              "<style scoped>\n",
              "    .dataframe tbody tr th:only-of-type {\n",
              "        vertical-align: middle;\n",
              "    }\n",
              "\n",
              "    .dataframe tbody tr th {\n",
              "        vertical-align: top;\n",
              "    }\n",
              "\n",
              "    .dataframe thead th {\n",
              "        text-align: right;\n",
              "    }\n",
              "</style>\n",
              "<table border=\"1\" class=\"dataframe\">\n",
              "  <thead>\n",
              "    <tr style=\"text-align: right;\">\n",
              "      <th></th>\n",
              "      <th>Age</th>\n",
              "      <th>Gender</th>\n",
              "      <th>self_employed</th>\n",
              "      <th>family_history</th>\n",
              "      <th>work_interfere</th>\n",
              "      <th>no_employees</th>\n",
              "      <th>remote_work</th>\n",
              "      <th>tech_company</th>\n",
              "      <th>benefits</th>\n",
              "      <th>care_options</th>\n",
              "      <th>...</th>\n",
              "      <th>leave</th>\n",
              "      <th>mental_health_consequence</th>\n",
              "      <th>phys_health_consequence</th>\n",
              "      <th>coworkers</th>\n",
              "      <th>supervisor</th>\n",
              "      <th>mental_health_interview</th>\n",
              "      <th>phys_health_interview</th>\n",
              "      <th>mental_vs_physical</th>\n",
              "      <th>obs_consequence</th>\n",
              "      <th>treatment</th>\n",
              "    </tr>\n",
              "  </thead>\n",
              "  <tbody>\n",
              "    <tr>\n",
              "      <th>0</th>\n",
              "      <td>37</td>\n",
              "      <td>Female</td>\n",
              "      <td>NaN</td>\n",
              "      <td>No</td>\n",
              "      <td>Often</td>\n",
              "      <td>6-25</td>\n",
              "      <td>No</td>\n",
              "      <td>Yes</td>\n",
              "      <td>Yes</td>\n",
              "      <td>Not sure</td>\n",
              "      <td>...</td>\n",
              "      <td>Somewhat easy</td>\n",
              "      <td>No</td>\n",
              "      <td>No</td>\n",
              "      <td>Some of them</td>\n",
              "      <td>Yes</td>\n",
              "      <td>No</td>\n",
              "      <td>Maybe</td>\n",
              "      <td>Yes</td>\n",
              "      <td>No</td>\n",
              "      <td>Yes</td>\n",
              "    </tr>\n",
              "    <tr>\n",
              "      <th>1</th>\n",
              "      <td>44</td>\n",
              "      <td>M</td>\n",
              "      <td>NaN</td>\n",
              "      <td>No</td>\n",
              "      <td>Rarely</td>\n",
              "      <td>More than 1000</td>\n",
              "      <td>No</td>\n",
              "      <td>No</td>\n",
              "      <td>Don't know</td>\n",
              "      <td>No</td>\n",
              "      <td>...</td>\n",
              "      <td>Don't know</td>\n",
              "      <td>Maybe</td>\n",
              "      <td>No</td>\n",
              "      <td>No</td>\n",
              "      <td>No</td>\n",
              "      <td>No</td>\n",
              "      <td>No</td>\n",
              "      <td>Don't know</td>\n",
              "      <td>No</td>\n",
              "      <td>No</td>\n",
              "    </tr>\n",
              "    <tr>\n",
              "      <th>2</th>\n",
              "      <td>32</td>\n",
              "      <td>Male</td>\n",
              "      <td>NaN</td>\n",
              "      <td>No</td>\n",
              "      <td>Rarely</td>\n",
              "      <td>6-25</td>\n",
              "      <td>No</td>\n",
              "      <td>Yes</td>\n",
              "      <td>No</td>\n",
              "      <td>No</td>\n",
              "      <td>...</td>\n",
              "      <td>Somewhat difficult</td>\n",
              "      <td>No</td>\n",
              "      <td>No</td>\n",
              "      <td>Yes</td>\n",
              "      <td>Yes</td>\n",
              "      <td>Yes</td>\n",
              "      <td>Yes</td>\n",
              "      <td>No</td>\n",
              "      <td>No</td>\n",
              "      <td>No</td>\n",
              "    </tr>\n",
              "    <tr>\n",
              "      <th>3</th>\n",
              "      <td>31</td>\n",
              "      <td>Male</td>\n",
              "      <td>NaN</td>\n",
              "      <td>Yes</td>\n",
              "      <td>Often</td>\n",
              "      <td>26-100</td>\n",
              "      <td>No</td>\n",
              "      <td>Yes</td>\n",
              "      <td>No</td>\n",
              "      <td>Yes</td>\n",
              "      <td>...</td>\n",
              "      <td>Somewhat difficult</td>\n",
              "      <td>Yes</td>\n",
              "      <td>Yes</td>\n",
              "      <td>Some of them</td>\n",
              "      <td>No</td>\n",
              "      <td>Maybe</td>\n",
              "      <td>Maybe</td>\n",
              "      <td>No</td>\n",
              "      <td>Yes</td>\n",
              "      <td>Yes</td>\n",
              "    </tr>\n",
              "    <tr>\n",
              "      <th>4</th>\n",
              "      <td>31</td>\n",
              "      <td>Male</td>\n",
              "      <td>NaN</td>\n",
              "      <td>No</td>\n",
              "      <td>Never</td>\n",
              "      <td>100-500</td>\n",
              "      <td>Yes</td>\n",
              "      <td>Yes</td>\n",
              "      <td>Yes</td>\n",
              "      <td>No</td>\n",
              "      <td>...</td>\n",
              "      <td>Don't know</td>\n",
              "      <td>No</td>\n",
              "      <td>No</td>\n",
              "      <td>Some of them</td>\n",
              "      <td>Yes</td>\n",
              "      <td>Yes</td>\n",
              "      <td>Yes</td>\n",
              "      <td>Don't know</td>\n",
              "      <td>No</td>\n",
              "      <td>No</td>\n",
              "    </tr>\n",
              "  </tbody>\n",
              "</table>\n",
              "<p>5 rows × 23 columns</p>\n",
              "</div>\n",
              "      <button class=\"colab-df-convert\" onclick=\"convertToInteractive('df-1da0ec23-bbf5-405e-bf93-1033f79fe4e4')\"\n",
              "              title=\"Convert this dataframe to an interactive table.\"\n",
              "              style=\"display:none;\">\n",
              "        \n",
              "  <svg xmlns=\"http://www.w3.org/2000/svg\" height=\"24px\"viewBox=\"0 0 24 24\"\n",
              "       width=\"24px\">\n",
              "    <path d=\"M0 0h24v24H0V0z\" fill=\"none\"/>\n",
              "    <path d=\"M18.56 5.44l.94 2.06.94-2.06 2.06-.94-2.06-.94-.94-2.06-.94 2.06-2.06.94zm-11 1L8.5 8.5l.94-2.06 2.06-.94-2.06-.94L8.5 2.5l-.94 2.06-2.06.94zm10 10l.94 2.06.94-2.06 2.06-.94-2.06-.94-.94-2.06-.94 2.06-2.06.94z\"/><path d=\"M17.41 7.96l-1.37-1.37c-.4-.4-.92-.59-1.43-.59-.52 0-1.04.2-1.43.59L10.3 9.45l-7.72 7.72c-.78.78-.78 2.05 0 2.83L4 21.41c.39.39.9.59 1.41.59.51 0 1.02-.2 1.41-.59l7.78-7.78 2.81-2.81c.8-.78.8-2.07 0-2.86zM5.41 20L4 18.59l7.72-7.72 1.47 1.35L5.41 20z\"/>\n",
              "  </svg>\n",
              "      </button>\n",
              "      \n",
              "  <style>\n",
              "    .colab-df-container {\n",
              "      display:flex;\n",
              "      flex-wrap:wrap;\n",
              "      gap: 12px;\n",
              "    }\n",
              "\n",
              "    .colab-df-convert {\n",
              "      background-color: #E8F0FE;\n",
              "      border: none;\n",
              "      border-radius: 50%;\n",
              "      cursor: pointer;\n",
              "      display: none;\n",
              "      fill: #1967D2;\n",
              "      height: 32px;\n",
              "      padding: 0 0 0 0;\n",
              "      width: 32px;\n",
              "    }\n",
              "\n",
              "    .colab-df-convert:hover {\n",
              "      background-color: #E2EBFA;\n",
              "      box-shadow: 0px 1px 2px rgba(60, 64, 67, 0.3), 0px 1px 3px 1px rgba(60, 64, 67, 0.15);\n",
              "      fill: #174EA6;\n",
              "    }\n",
              "\n",
              "    [theme=dark] .colab-df-convert {\n",
              "      background-color: #3B4455;\n",
              "      fill: #D2E3FC;\n",
              "    }\n",
              "\n",
              "    [theme=dark] .colab-df-convert:hover {\n",
              "      background-color: #434B5C;\n",
              "      box-shadow: 0px 1px 3px 1px rgba(0, 0, 0, 0.15);\n",
              "      filter: drop-shadow(0px 1px 2px rgba(0, 0, 0, 0.3));\n",
              "      fill: #FFFFFF;\n",
              "    }\n",
              "  </style>\n",
              "\n",
              "      <script>\n",
              "        const buttonEl =\n",
              "          document.querySelector('#df-1da0ec23-bbf5-405e-bf93-1033f79fe4e4 button.colab-df-convert');\n",
              "        buttonEl.style.display =\n",
              "          google.colab.kernel.accessAllowed ? 'block' : 'none';\n",
              "\n",
              "        async function convertToInteractive(key) {\n",
              "          const element = document.querySelector('#df-1da0ec23-bbf5-405e-bf93-1033f79fe4e4');\n",
              "          const dataTable =\n",
              "            await google.colab.kernel.invokeFunction('convertToInteractive',\n",
              "                                                     [key], {});\n",
              "          if (!dataTable) return;\n",
              "\n",
              "          const docLinkHtml = 'Like what you see? Visit the ' +\n",
              "            '<a target=\"_blank\" href=https://colab.research.google.com/notebooks/data_table.ipynb>data table notebook</a>'\n",
              "            + ' to learn more about interactive tables.';\n",
              "          element.innerHTML = '';\n",
              "          dataTable['output_type'] = 'display_data';\n",
              "          await google.colab.output.renderOutput(dataTable, element);\n",
              "          const docLink = document.createElement('div');\n",
              "          docLink.innerHTML = docLinkHtml;\n",
              "          element.appendChild(docLink);\n",
              "        }\n",
              "      </script>\n",
              "    </div>\n",
              "  </div>\n",
              "  "
            ]
          },
          "metadata": {},
          "execution_count": 81
        }
      ]
    },
    {
      "cell_type": "code",
      "source": [
        "df.columns\n",
        "\n",
        "#年齡 性別 自雇者 家族史 心理憂鬱程度 公司規模 遠距工作 科技業嗎"
      ],
      "metadata": {
        "colab": {
          "base_uri": "https://localhost:8080/"
        },
        "id": "pytMh3SkQsnr",
        "outputId": "b02c27b8-e122-4e23-a095-3a0c946c8089"
      },
      "execution_count": null,
      "outputs": [
        {
          "output_type": "execute_result",
          "data": {
            "text/plain": [
              "Index(['Age', 'Gender', 'self_employed', 'family_history', 'work_interfere',\n",
              "       'no_employees', 'remote_work', 'tech_company', 'benefits',\n",
              "       'care_options', 'wellness_program', 'seek_help', 'anonymity', 'leave',\n",
              "       'mental_health_consequence', 'phys_health_consequence', 'coworkers',\n",
              "       'supervisor', 'mental_health_interview', 'phys_health_interview',\n",
              "       'mental_vs_physical', 'obs_consequence', 'treatment'],\n",
              "      dtype='object')"
            ]
          },
          "metadata": {},
          "execution_count": 82
        }
      ]
    },
    {
      "cell_type": "code",
      "source": [
        "# 看有幾種可能性\n",
        "for col in df.columns:\n",
        "  print('Unique values in {} :'.format(col), len(df[col].unique()))"
      ],
      "metadata": {
        "colab": {
          "base_uri": "https://localhost:8080/"
        },
        "id": "7VXpizPCQ7Fj",
        "outputId": "43b58737-55d0-4ebb-b904-63b609056859"
      },
      "execution_count": null,
      "outputs": [
        {
          "output_type": "stream",
          "name": "stdout",
          "text": [
            "Unique values in Age : 52\n",
            "Unique values in Gender : 44\n",
            "Unique values in self_employed : 3\n",
            "Unique values in family_history : 2\n",
            "Unique values in work_interfere : 5\n",
            "Unique values in no_employees : 6\n",
            "Unique values in remote_work : 2\n",
            "Unique values in tech_company : 2\n",
            "Unique values in benefits : 3\n",
            "Unique values in care_options : 3\n",
            "Unique values in wellness_program : 3\n",
            "Unique values in seek_help : 3\n",
            "Unique values in anonymity : 3\n",
            "Unique values in leave : 5\n",
            "Unique values in mental_health_consequence : 3\n",
            "Unique values in phys_health_consequence : 3\n",
            "Unique values in coworkers : 3\n",
            "Unique values in supervisor : 3\n",
            "Unique values in mental_health_interview : 3\n",
            "Unique values in phys_health_interview : 3\n",
            "Unique values in mental_vs_physical : 3\n",
            "Unique values in obs_consequence : 2\n",
            "Unique values in treatment : 2\n"
          ]
        }
      ]
    },
    {
      "cell_type": "code",
      "source": [
        "# 非空值null 1007都有 值可能是NaN\n",
        "df.info()"
      ],
      "metadata": {
        "colab": {
          "base_uri": "https://localhost:8080/"
        },
        "id": "8f79JZ_eQvcU",
        "outputId": "6062a496-a2a8-4a1e-eeea-615bc3784686"
      },
      "execution_count": null,
      "outputs": [
        {
          "output_type": "stream",
          "name": "stdout",
          "text": [
            "<class 'pandas.core.frame.DataFrame'>\n",
            "RangeIndex: 1007 entries, 0 to 1006\n",
            "Data columns (total 23 columns):\n",
            " #   Column                     Non-Null Count  Dtype \n",
            "---  ------                     --------------  ----- \n",
            " 0   Age                        1007 non-null   int64 \n",
            " 1   Gender                     1007 non-null   object\n",
            " 2   self_employed              994 non-null    object\n",
            " 3   family_history             1007 non-null   object\n",
            " 4   work_interfere             800 non-null    object\n",
            " 5   no_employees               1007 non-null   object\n",
            " 6   remote_work                1007 non-null   object\n",
            " 7   tech_company               1007 non-null   object\n",
            " 8   benefits                   1007 non-null   object\n",
            " 9   care_options               1007 non-null   object\n",
            " 10  wellness_program           1007 non-null   object\n",
            " 11  seek_help                  1007 non-null   object\n",
            " 12  anonymity                  1007 non-null   object\n",
            " 13  leave                      1007 non-null   object\n",
            " 14  mental_health_consequence  1007 non-null   object\n",
            " 15  phys_health_consequence    1007 non-null   object\n",
            " 16  coworkers                  1007 non-null   object\n",
            " 17  supervisor                 1007 non-null   object\n",
            " 18  mental_health_interview    1007 non-null   object\n",
            " 19  phys_health_interview      1007 non-null   object\n",
            " 20  mental_vs_physical         1007 non-null   object\n",
            " 21  obs_consequence            1007 non-null   object\n",
            " 22  treatment                  1007 non-null   object\n",
            "dtypes: int64(1), object(22)\n",
            "memory usage: 181.1+ KB\n"
          ]
        }
      ]
    },
    {
      "cell_type": "code",
      "source": [
        "# 空值\n",
        "df.isnull().sum().sort_values(ascending=False)"
      ],
      "metadata": {
        "colab": {
          "base_uri": "https://localhost:8080/"
        },
        "id": "zNwEBTKsQTjA",
        "outputId": "71e8be0f-f9e5-4300-ddcb-53026a5806c8"
      },
      "execution_count": null,
      "outputs": [
        {
          "output_type": "execute_result",
          "data": {
            "text/plain": [
              "work_interfere               207\n",
              "self_employed                 13\n",
              "Age                            0\n",
              "leave                          0\n",
              "obs_consequence                0\n",
              "mental_vs_physical             0\n",
              "phys_health_interview          0\n",
              "mental_health_interview        0\n",
              "supervisor                     0\n",
              "coworkers                      0\n",
              "phys_health_consequence        0\n",
              "mental_health_consequence      0\n",
              "seek_help                      0\n",
              "anonymity                      0\n",
              "Gender                         0\n",
              "wellness_program               0\n",
              "care_options                   0\n",
              "benefits                       0\n",
              "tech_company                   0\n",
              "remote_work                    0\n",
              "no_employees                   0\n",
              "family_history                 0\n",
              "treatment                      0\n",
              "dtype: int64"
            ]
          },
          "metadata": {},
          "execution_count": 85
        }
      ]
    },
    {
      "cell_type": "code",
      "source": [
        "# work_interfere的種類\n",
        "df['work_interfere'].unique()"
      ],
      "metadata": {
        "colab": {
          "base_uri": "https://localhost:8080/"
        },
        "id": "i3UypaMiRwta",
        "outputId": "ef347fa0-349d-4267-aa60-0991aabe0ed3"
      },
      "execution_count": null,
      "outputs": [
        {
          "output_type": "execute_result",
          "data": {
            "text/plain": [
              "array(['Often', 'Rarely', 'Never', 'Sometimes', nan], dtype=object)"
            ]
          },
          "metadata": {},
          "execution_count": 86
        }
      ]
    },
    {
      "cell_type": "code",
      "source": [
        "# self_employed的種類\n",
        "df.self_employed.unique()"
      ],
      "metadata": {
        "colab": {
          "base_uri": "https://localhost:8080/"
        },
        "id": "_hFevWe2SFH-",
        "outputId": "399ad347-cb04-4dea-a9ab-bb3b21dfc5d9"
      },
      "execution_count": null,
      "outputs": [
        {
          "output_type": "execute_result",
          "data": {
            "text/plain": [
              "array([nan, 'Yes', 'No'], dtype=object)"
            ]
          },
          "metadata": {},
          "execution_count": 87
        }
      ]
    },
    {
      "cell_type": "code",
      "source": [
        "# Gender的種類\n",
        "df.Gender.unique()\n",
        "\n",
        "# Trans跨性別 Cis性別不認同 "
      ],
      "metadata": {
        "colab": {
          "base_uri": "https://localhost:8080/"
        },
        "id": "CZT5rg7USL_v",
        "outputId": "043ac1e0-0b19-4fb7-f69b-076c17b73043"
      },
      "execution_count": null,
      "outputs": [
        {
          "output_type": "execute_result",
          "data": {
            "text/plain": [
              "array(['Female', 'M', 'Male', 'female', 'male', 'm', 'maile',\n",
              "       'Trans-female', 'Cis Female', 'F', 'something kinda male?',\n",
              "       'Cis Male', 'Woman', 'f', 'Mal', 'Male (CIS)', 'queer/she/they',\n",
              "       'non-binary', 'woman', 'Make', 'Nah', 'All', 'Enby', 'fluid',\n",
              "       'Genderqueer', 'Androgyne', 'cis-female/femme', 'Guy (-ish) ^_^',\n",
              "       'male leaning androgynous', 'Male ', 'Trans woman', 'Man', 'msle',\n",
              "       'Neuter', 'queer', 'Female (cis)', 'Mail', 'cis male',\n",
              "       'A little about you', 'Malr', 'p', 'femail', 'Cis Man',\n",
              "       'ostensibly male unsure what that really means'], dtype=object)"
            ]
          },
          "metadata": {},
          "execution_count": 88
        }
      ]
    },
    {
      "cell_type": "code",
      "source": [
        "# 老師幫我們分的\n",
        "other = ['A little about you', 'p', 'Nah', 'Enby', 'Trans-female','something kinda male?','queer/she/they','non-binary','All','fluid', 'Genderqueer','Androgyne', 'Agender','Guy (-ish) ^_^', 'male leaning androgynous','Trans woman','Neuter', 'Female (trans)','queer','ostensibly male unsure what that really means','trans']\n",
        "male  = ['male', 'Male','M', 'm', 'Male-ish', 'maile','Cis Male','Mal', 'Male (CIS)','Make','Male ', 'Man', 'msle','cis male', 'Cis Man','Malr','Mail']\n",
        "female = ['Female', 'female','Cis Female', 'F','f','Femake', 'woman','Female ','cis-female/femme','Female (cis)','femail','Woman','female']"
      ],
      "metadata": {
        "id": "JNE6bqvnSbOj"
      },
      "execution_count": null,
      "outputs": []
    },
    {
      "cell_type": "code",
      "source": [
        "# 最小值 最大值\n",
        "df.Age.min(), df.Age.max()\n",
        "\n",
        "#老師建議:18以下都改18 超過最大改最大 也可以改平均值"
      ],
      "metadata": {
        "colab": {
          "base_uri": "https://localhost:8080/"
        },
        "id": "xRc2OAt3SjE6",
        "outputId": "e7aac9ad-4373-4ccc-95fe-afd503d7cf0b"
      },
      "execution_count": null,
      "outputs": [
        {
          "output_type": "execute_result",
          "data": {
            "text/plain": [
              "(-1726, 99999999999)"
            ]
          },
          "metadata": {},
          "execution_count": 90
        }
      ]
    },
    {
      "cell_type": "code",
      "source": [
        "# yes0 no1\n",
        "df.treatment = df.treatment.astype('category')\n",
        "df.treatment = df.treatment.cat.codes\n",
        "df.treatment.value_counts()"
      ],
      "metadata": {
        "colab": {
          "base_uri": "https://localhost:8080/"
        },
        "id": "DgRHjkUkUJ3G",
        "outputId": "287ca3df-edc0-486b-fe87-92555c0f957b"
      },
      "execution_count": null,
      "outputs": [
        {
          "output_type": "execute_result",
          "data": {
            "text/plain": [
              "1    510\n",
              "0    497\n",
              "Name: treatment, dtype: int64"
            ]
          },
          "metadata": {},
          "execution_count": 91
        }
      ]
    },
    {
      "cell_type": "markdown",
      "metadata": {
        "id": "43Tl7kMD3HiI"
      },
      "source": [
        "### The stage is yours"
      ]
    },
    {
      "cell_type": "code",
      "source": [
        "# 讀test資料\n",
        "\n",
        "test = pd.read_csv('project2_test.csv')"
      ],
      "metadata": {
        "id": "PuyzQ9iWrpFe"
      },
      "execution_count": null,
      "outputs": []
    },
    {
      "cell_type": "code",
      "source": [
        "# age處理\n",
        "\n",
        "df['Age'][df['Age']>=65]=65\n",
        "df['Age'][df['Age']<=20]=20\n",
        "\n",
        "test['Age'][test['Age']>=65]=65\n",
        "test['Age'][test['Age']<=20]=20\n",
        "\n",
        "df.Age.min(), df.Age.max()"
      ],
      "metadata": {
        "colab": {
          "base_uri": "https://localhost:8080/"
        },
        "id": "pEHwkzMUnG2C",
        "outputId": "dadaaa80-aff9-459e-deae-fe3d6fb22bcd"
      },
      "execution_count": null,
      "outputs": [
        {
          "output_type": "execute_result",
          "data": {
            "text/plain": [
              "(20, 65)"
            ]
          },
          "metadata": {},
          "execution_count": 93
        }
      ]
    },
    {
      "cell_type": "code",
      "source": [
        "# 性別取代\n",
        "df['Gender'][df['Gender'].isin(['A little about you','p','Nah','Enby','Trans-female','something kinda male?','non-binary','All','fluid','Genderqueer','Androgyne','Agender','Guy (-ish) ^_^','male leaning androgynous','Trans woman','Neuter','Female (trans)','queer','ostensibly male unsure what that really means','trans'])]='other'\n",
        "df['Gender'][df['Gender'].isin(['male','Male','M','m','Male-ish','maile','Cis Male','Mal','Male (CIS)','Make','Male ','Man','msle','cis male','Cis Man','Malr','Mail'])]='male'\n",
        "df['Gender'][df['Gender'].isin(['Female','female','Cis Female','F','f','Femake','woman','Female ','cis-female/femme','Female (cis)','femail','Woman','female','queer/she/they'])]='female'\n",
        "\n",
        "test['Gender'][test['Gender'].isin(['A little about you','p','Nah','Enby','Trans-female','something kinda male?','non-binary','All','fluid','Genderqueer','Androgyne','Agender','Guy (-ish) ^_^','male leaning androgynous','Trans woman','Neuter','Female (trans)','queer','ostensibly male unsure what that really means','trans'])]='other'\n",
        "test['Gender'][test['Gender'].isin(['male','Male','M','m','Male-ish','maile','Cis Male','Mal','Male (CIS)','Make','Male ','Man','msle','cis male','Cis Man','Malr','Mail'])]='male'\n",
        "test['Gender'][test['Gender'].isin(['Female','female','Cis Female','F','f','Femake','woman','Female ','cis-female/femme','Female (cis)','femail','Woman','female','queer/she/they'])]='female'\n",
        "\n",
        "# 性別轉換\n",
        "df['Gender'][df['Gender']=='other']= 2\n",
        "df['Gender'][df['Gender']=='male']= 1\n",
        "df['Gender'][df['Gender']=='female']= 0\n",
        "\n",
        "test['Gender'][test['Gender']=='other']= 2\n",
        "test['Gender'][test['Gender']=='male']= 1\n",
        "test['Gender'][test['Gender']=='female']= 0\n",
        "\n",
        "test.Gender.unique()"
      ],
      "metadata": {
        "colab": {
          "base_uri": "https://localhost:8080/"
        },
        "id": "RRA47R9VHeuj",
        "outputId": "49913826-1bd1-4920-837e-dd3158eca26d"
      },
      "execution_count": null,
      "outputs": [
        {
          "output_type": "execute_result",
          "data": {
            "text/plain": [
              "array([1, 0, 2], dtype=object)"
            ]
          },
          "metadata": {},
          "execution_count": 94
        }
      ]
    },
    {
      "cell_type": "code",
      "source": [
        "# work_interfere處理\n",
        "\n",
        "df['work_interfere'][df['work_interfere']=='Often']= 3\n",
        "df['work_interfere'][df['work_interfere']=='Sometimes']= 2\n",
        "df['work_interfere'][df['work_interfere']=='Rarely']= 1\n",
        "df['work_interfere'][df['work_interfere']=='Never']= 0\n",
        "\n",
        "test['work_interfere'][test['work_interfere']=='Often']= 3\n",
        "test['work_interfere'][test['work_interfere']=='Sometimes']= 2\n",
        "test['work_interfere'][test['work_interfere']=='Rarely']= 1\n",
        "test['work_interfere'][test['work_interfere']=='Never']= 0\n",
        "\n",
        "df.work_interfere.unique()"
      ],
      "metadata": {
        "colab": {
          "base_uri": "https://localhost:8080/",
          "height": 236
        },
        "id": "Mdghh3-SuSsa",
        "outputId": "2860b72a-138e-4f1a-931a-51c16b3ad673"
      },
      "execution_count": null,
      "outputs": [
        {
          "output_type": "error",
          "ename": "NameError",
          "evalue": "ignored",
          "traceback": [
            "\u001b[0;31m---------------------------------------------------------------------------\u001b[0m",
            "\u001b[0;31mNameError\u001b[0m                                 Traceback (most recent call last)",
            "\u001b[0;32m<ipython-input-1-4c3812cd7f1a>\u001b[0m in \u001b[0;36m<module>\u001b[0;34m\u001b[0m\n\u001b[1;32m      1\u001b[0m \u001b[0;31m# work_interfere處理\u001b[0m\u001b[0;34m\u001b[0m\u001b[0;34m\u001b[0m\u001b[0;34m\u001b[0m\u001b[0m\n\u001b[1;32m      2\u001b[0m \u001b[0;34m\u001b[0m\u001b[0m\n\u001b[0;32m----> 3\u001b[0;31m \u001b[0mdf\u001b[0m\u001b[0;34m[\u001b[0m\u001b[0;34m'work_interfere'\u001b[0m\u001b[0;34m]\u001b[0m\u001b[0;34m[\u001b[0m\u001b[0mdf\u001b[0m\u001b[0;34m[\u001b[0m\u001b[0;34m'work_interfere'\u001b[0m\u001b[0;34m]\u001b[0m\u001b[0;34m==\u001b[0m\u001b[0;34m'Often'\u001b[0m\u001b[0;34m]\u001b[0m\u001b[0;34m=\u001b[0m \u001b[0;36m3\u001b[0m\u001b[0;34m\u001b[0m\u001b[0;34m\u001b[0m\u001b[0m\n\u001b[0m\u001b[1;32m      4\u001b[0m \u001b[0mdf\u001b[0m\u001b[0;34m[\u001b[0m\u001b[0;34m'work_interfere'\u001b[0m\u001b[0;34m]\u001b[0m\u001b[0;34m[\u001b[0m\u001b[0mdf\u001b[0m\u001b[0;34m[\u001b[0m\u001b[0;34m'work_interfere'\u001b[0m\u001b[0;34m]\u001b[0m\u001b[0;34m==\u001b[0m\u001b[0;34m'Sometimes'\u001b[0m\u001b[0;34m]\u001b[0m\u001b[0;34m=\u001b[0m \u001b[0;36m2\u001b[0m\u001b[0;34m\u001b[0m\u001b[0;34m\u001b[0m\u001b[0m\n\u001b[1;32m      5\u001b[0m \u001b[0mdf\u001b[0m\u001b[0;34m[\u001b[0m\u001b[0;34m'work_interfere'\u001b[0m\u001b[0;34m]\u001b[0m\u001b[0;34m[\u001b[0m\u001b[0mdf\u001b[0m\u001b[0;34m[\u001b[0m\u001b[0;34m'work_interfere'\u001b[0m\u001b[0;34m]\u001b[0m\u001b[0;34m==\u001b[0m\u001b[0;34m'Rarely'\u001b[0m\u001b[0;34m]\u001b[0m\u001b[0;34m=\u001b[0m \u001b[0;36m1\u001b[0m\u001b[0;34m\u001b[0m\u001b[0;34m\u001b[0m\u001b[0m\n",
            "\u001b[0;31mNameError\u001b[0m: name 'df' is not defined"
          ]
        }
      ]
    },
    {
      "cell_type": "code",
      "source": [
        "# no_employees的種類\n",
        "\n",
        "df.no_employees.unique()"
      ],
      "metadata": {
        "colab": {
          "base_uri": "https://localhost:8080/"
        },
        "id": "i9XiycFoleXc",
        "outputId": "ff6fbf3a-3aeb-42c4-a6e7-a44cd192aef2"
      },
      "execution_count": null,
      "outputs": [
        {
          "output_type": "execute_result",
          "data": {
            "text/plain": [
              "array(['6-25', 'More than 1000', '26-100', '100-500', '1-5', '500-1000'],\n",
              "      dtype=object)"
            ]
          },
          "metadata": {},
          "execution_count": 96
        }
      ]
    },
    {
      "cell_type": "code",
      "source": [
        "# no_employees 取代\n",
        "df['no_employees'][df['no_employees'].isin(['More than 1000','500-1000'])]= 'big'\n",
        "df['no_employees'][df['no_employees'].isin(['1-5','6-25','26-100'])]= 'small'\n",
        "\n",
        "test['no_employees'][test['no_employees'].isin(['More than 1000','500-1000'])]= 'big'\n",
        "test['no_employees'][test['no_employees'].isin(['1-5','6-25','26-100'])]= 'small'\n",
        "\n",
        "#轉換\n",
        "df['no_employees'][df['no_employees']=='big']= 2\n",
        "df['no_employees'][df['no_employees']=='100-500']= 1\n",
        "df['no_employees'][df['no_employees']=='small']= 0\n",
        "test['no_employees'][test['no_employees']=='big']= 2\n",
        "test['no_employees'][test['no_employees']=='100-500']= 1\n",
        "test['no_employees'][test['no_employees']=='small']= 0\n",
        "\n",
        "df['no_employees']"
      ],
      "metadata": {
        "colab": {
          "base_uri": "https://localhost:8080/"
        },
        "id": "V1VAG9SqvayW",
        "outputId": "963fb565-1d5c-41ea-fa71-675ac71f530f"
      },
      "execution_count": null,
      "outputs": [
        {
          "output_type": "execute_result",
          "data": {
            "text/plain": [
              "0       0\n",
              "1       2\n",
              "2       0\n",
              "3       0\n",
              "4       1\n",
              "       ..\n",
              "1002    2\n",
              "1003    0\n",
              "1004    0\n",
              "1005    2\n",
              "1006    1\n",
              "Name: no_employees, Length: 1007, dtype: object"
            ]
          },
          "metadata": {},
          "execution_count": 97
        }
      ]
    },
    {
      "cell_type": "code",
      "source": [
        "# leave的種類\n",
        "\n",
        "df.leave.unique()"
      ],
      "metadata": {
        "colab": {
          "base_uri": "https://localhost:8080/"
        },
        "id": "9CUq8IXulePN",
        "outputId": "66d343e6-4fb0-4788-ea07-5aca257e3816"
      },
      "execution_count": null,
      "outputs": [
        {
          "output_type": "execute_result",
          "data": {
            "text/plain": [
              "array(['Somewhat easy', \"Don't know\", 'Somewhat difficult',\n",
              "       'Very difficult', 'Very easy'], dtype=object)"
            ]
          },
          "metadata": {},
          "execution_count": 98
        }
      ]
    },
    {
      "cell_type": "code",
      "source": [
        "# leave取代\n",
        "df['leave'][df['leave'].isin(['Somewhat easy','Very easy'])]= 'easy'\n",
        "df['leave'][df['leave'].isin(['Very difficult','Somewhat difficult'])]= 'hard'\n",
        "\n",
        "test['leave'][test['leave'].isin(['Somewhat easy','Very easy'])]= 'easy'\n",
        "test['leave'][test['leave'].isin(['Very difficult','Somewhat difficult'])]= 'hard'\n",
        "\n",
        "# 轉換\n",
        "df['leave'][df['leave']=='easy']= 0\n",
        "df['leave'][df['leave']=='hard']= 1\n",
        "df['leave'][df['leave']==\"Don't know\"]= 2\n",
        "test['leave'][test['leave']=='easy']= 0\n",
        "test['leave'][test['leave']=='hard']= 1\n",
        "test['leave'][test['leave']==\"Don't know\"]= 2\n",
        "\n",
        "df['leave']"
      ],
      "metadata": {
        "colab": {
          "base_uri": "https://localhost:8080/"
        },
        "id": "mAl_pg-YnHED",
        "outputId": "01602908-5ff6-4571-b04e-98dc41dd4fde"
      },
      "execution_count": null,
      "outputs": [
        {
          "output_type": "execute_result",
          "data": {
            "text/plain": [
              "0       0\n",
              "1       2\n",
              "2       1\n",
              "3       1\n",
              "4       2\n",
              "       ..\n",
              "1002    0\n",
              "1003    0\n",
              "1004    1\n",
              "1005    1\n",
              "1006    2\n",
              "Name: leave, Length: 1007, dtype: object"
            ]
          },
          "metadata": {},
          "execution_count": 99
        }
      ]
    },
    {
      "cell_type": "code",
      "source": [
        "# self_employed種類\n",
        "df.self_employed.unique()"
      ],
      "metadata": {
        "colab": {
          "base_uri": "https://localhost:8080/"
        },
        "id": "WjAREh_cT8u2",
        "outputId": "e05b478a-a3df-4d82-9636-17d7a0b5e87d"
      },
      "execution_count": null,
      "outputs": [
        {
          "output_type": "execute_result",
          "data": {
            "text/plain": [
              "array([nan, 'Yes', 'No'], dtype=object)"
            ]
          },
          "metadata": {},
          "execution_count": 100
        }
      ]
    },
    {
      "cell_type": "code",
      "source": [
        "# self_employed轉換\n",
        "\n",
        "df.self_employed = df.self_employed.astype('category')\n",
        "df.self_employed = df.self_employed.cat.codes\n",
        "\n",
        "test.self_employed = test.self_employed.astype('category')\n",
        "test.self_employed = test.self_employed.cat.codes\n",
        "\n",
        "test.self_employed.unique()"
      ],
      "metadata": {
        "colab": {
          "base_uri": "https://localhost:8080/"
        },
        "id": "rnL4rSDpVrDQ",
        "outputId": "da546b43-df97-455b-8b66-c8ee84a1e95d"
      },
      "execution_count": null,
      "outputs": [
        {
          "output_type": "execute_result",
          "data": {
            "text/plain": [
              "array([ 0,  1, -1], dtype=int8)"
            ]
          },
          "metadata": {},
          "execution_count": 101
        }
      ]
    },
    {
      "cell_type": "code",
      "source": [
        "df.family_history.unique()"
      ],
      "metadata": {
        "colab": {
          "base_uri": "https://localhost:8080/"
        },
        "id": "7Bkp_y9zTUhH",
        "outputId": "1aeea9ab-e006-4497-cde7-27256ed05135"
      },
      "execution_count": null,
      "outputs": [
        {
          "output_type": "execute_result",
          "data": {
            "text/plain": [
              "array(['No', 'Yes'], dtype=object)"
            ]
          },
          "metadata": {},
          "execution_count": 102
        }
      ]
    },
    {
      "cell_type": "code",
      "source": [
        "# family_history轉換\n",
        "\n",
        "df.family_history = df.family_history.astype('category')\n",
        "df.family_history = df.family_history.cat.codes\n",
        "\n",
        "test.family_history = test.family_history.astype('category')\n",
        "test.family_history = test.family_history.cat.codes\n",
        "\n",
        "test.family_history.unique()"
      ],
      "metadata": {
        "colab": {
          "base_uri": "https://localhost:8080/"
        },
        "id": "GQw3QqdUXGVb",
        "outputId": "2b3a11bd-b3da-4fc3-9b25-1d7c904b4e51"
      },
      "execution_count": null,
      "outputs": [
        {
          "output_type": "execute_result",
          "data": {
            "text/plain": [
              "array([1, 0], dtype=int8)"
            ]
          },
          "metadata": {},
          "execution_count": 103
        }
      ]
    },
    {
      "cell_type": "code",
      "source": [
        "df.remote_work.unique()"
      ],
      "metadata": {
        "colab": {
          "base_uri": "https://localhost:8080/"
        },
        "id": "2-TNt80aUEUq",
        "outputId": "103a22a1-727d-4b24-84a7-bf3af4d7901a"
      },
      "execution_count": null,
      "outputs": [
        {
          "output_type": "execute_result",
          "data": {
            "text/plain": [
              "array(['No', 'Yes'], dtype=object)"
            ]
          },
          "metadata": {},
          "execution_count": 104
        }
      ]
    },
    {
      "cell_type": "code",
      "source": [
        "# remote_work轉換\n",
        "\n",
        "df.remote_work = df.remote_work.astype('category')\n",
        "df.remote_work = df.remote_work.cat.codes\n",
        "\n",
        "test.remote_work = test.remote_work.astype('category')\n",
        "test.remote_work = test.remote_work.cat.codes\n",
        "\n",
        "test.remote_work.unique()"
      ],
      "metadata": {
        "colab": {
          "base_uri": "https://localhost:8080/"
        },
        "id": "-41x2CEfXTLR",
        "outputId": "a93815f1-1d23-4ba6-bca2-c37574cd46bf"
      },
      "execution_count": null,
      "outputs": [
        {
          "output_type": "execute_result",
          "data": {
            "text/plain": [
              "array([1, 0], dtype=int8)"
            ]
          },
          "metadata": {},
          "execution_count": 105
        }
      ]
    },
    {
      "cell_type": "code",
      "source": [
        "df.tech_company.unique()"
      ],
      "metadata": {
        "colab": {
          "base_uri": "https://localhost:8080/"
        },
        "id": "7RyVeeDrUMgm",
        "outputId": "dc6530b0-8c4b-4101-d68e-c18766b691c4"
      },
      "execution_count": null,
      "outputs": [
        {
          "output_type": "execute_result",
          "data": {
            "text/plain": [
              "array(['Yes', 'No'], dtype=object)"
            ]
          },
          "metadata": {},
          "execution_count": 106
        }
      ]
    },
    {
      "cell_type": "code",
      "source": [
        "# tech_company轉換\n",
        "\n",
        "df.tech_company = df.tech_company.astype('category')\n",
        "df.tech_company = df.tech_company.cat.codes\n",
        "\n",
        "test.tech_company = test.tech_company.astype('category')\n",
        "test.tech_company = test.tech_company.cat.codes\n",
        "\n",
        "test.tech_company.unique()"
      ],
      "metadata": {
        "colab": {
          "base_uri": "https://localhost:8080/"
        },
        "id": "V1uLO252Xmnc",
        "outputId": "b3854372-12d3-4740-9a3b-a457a16815d6"
      },
      "execution_count": null,
      "outputs": [
        {
          "output_type": "execute_result",
          "data": {
            "text/plain": [
              "array([1, 0], dtype=int8)"
            ]
          },
          "metadata": {},
          "execution_count": 107
        }
      ]
    },
    {
      "cell_type": "code",
      "source": [
        "df.benefits.unique()"
      ],
      "metadata": {
        "colab": {
          "base_uri": "https://localhost:8080/"
        },
        "id": "8qv2pHkBUUo7",
        "outputId": "2a652c30-8981-499e-a06d-0912812bc748"
      },
      "execution_count": null,
      "outputs": [
        {
          "output_type": "execute_result",
          "data": {
            "text/plain": [
              "array(['Yes', \"Don't know\", 'No'], dtype=object)"
            ]
          },
          "metadata": {},
          "execution_count": 108
        }
      ]
    },
    {
      "cell_type": "code",
      "source": [
        "# benefits轉換\n",
        "\n",
        "df.benefits = df.benefits.astype('category')\n",
        "df.benefits = df.benefits.cat.codes\n",
        "\n",
        "test.benefits = test.benefits.astype('category')\n",
        "test.benefits = test.benefits.cat.codes\n",
        "\n",
        "test.benefits.unique()"
      ],
      "metadata": {
        "colab": {
          "base_uri": "https://localhost:8080/"
        },
        "id": "xGZPQXl2YFOf",
        "outputId": "51419ebb-a30c-4f75-ac87-566ef06f0ba5"
      },
      "execution_count": null,
      "outputs": [
        {
          "output_type": "execute_result",
          "data": {
            "text/plain": [
              "array([0, 1, 2], dtype=int8)"
            ]
          },
          "metadata": {},
          "execution_count": 109
        }
      ]
    },
    {
      "cell_type": "code",
      "source": [
        "df.care_options.unique()"
      ],
      "metadata": {
        "colab": {
          "base_uri": "https://localhost:8080/"
        },
        "id": "cNp1EZqVUUmt",
        "outputId": "fa106546-6f47-41f2-d678-5352391cb7c1"
      },
      "execution_count": null,
      "outputs": [
        {
          "output_type": "execute_result",
          "data": {
            "text/plain": [
              "array(['Not sure', 'No', 'Yes'], dtype=object)"
            ]
          },
          "metadata": {},
          "execution_count": 110
        }
      ]
    },
    {
      "cell_type": "code",
      "source": [
        "# care_options轉換\n",
        "\n",
        "df.care_options = df.care_options.astype('category')\n",
        "df.care_options = df.care_options.cat.codes\n",
        "\n",
        "test.care_options = test.care_options.astype('category')\n",
        "test.care_options = test.care_options.cat.codes\n",
        "\n",
        "test.care_options.unique()"
      ],
      "metadata": {
        "colab": {
          "base_uri": "https://localhost:8080/"
        },
        "id": "8VlHWctCZJMs",
        "outputId": "731e6ea6-754f-4818-8a65-bf13df78524d"
      },
      "execution_count": null,
      "outputs": [
        {
          "output_type": "execute_result",
          "data": {
            "text/plain": [
              "array([0, 1, 2], dtype=int8)"
            ]
          },
          "metadata": {},
          "execution_count": 111
        }
      ]
    },
    {
      "cell_type": "code",
      "source": [
        "df.wellness_program.unique()"
      ],
      "metadata": {
        "colab": {
          "base_uri": "https://localhost:8080/"
        },
        "id": "041v8dxuUUkA",
        "outputId": "12098880-626d-4127-8645-d88e1bc1126f"
      },
      "execution_count": null,
      "outputs": [
        {
          "output_type": "execute_result",
          "data": {
            "text/plain": [
              "array(['No', \"Don't know\", 'Yes'], dtype=object)"
            ]
          },
          "metadata": {},
          "execution_count": 112
        }
      ]
    },
    {
      "cell_type": "code",
      "source": [
        "# wellness_program轉換\n",
        "\n",
        "df.wellness_program = df.wellness_program.astype('category')\n",
        "df.wellness_program = df.wellness_program.cat.codes\n",
        "\n",
        "test.wellness_program = test.wellness_program.astype('category')\n",
        "test.wellness_program = test.wellness_program.cat.codes\n",
        "\n",
        "test.wellness_program.unique()"
      ],
      "metadata": {
        "colab": {
          "base_uri": "https://localhost:8080/"
        },
        "id": "0FZUZlJTZKMJ",
        "outputId": "74143502-f744-4832-a34f-3977ef35e621"
      },
      "execution_count": null,
      "outputs": [
        {
          "output_type": "execute_result",
          "data": {
            "text/plain": [
              "array([1, 0, 2], dtype=int8)"
            ]
          },
          "metadata": {},
          "execution_count": 113
        }
      ]
    },
    {
      "cell_type": "code",
      "source": [
        "df.seek_help.unique()"
      ],
      "metadata": {
        "colab": {
          "base_uri": "https://localhost:8080/"
        },
        "id": "4GhzyN0TUUg5",
        "outputId": "95b77bd5-e54f-470e-f989-7e86436c19bb"
      },
      "execution_count": null,
      "outputs": [
        {
          "output_type": "execute_result",
          "data": {
            "text/plain": [
              "array(['Yes', \"Don't know\", 'No'], dtype=object)"
            ]
          },
          "metadata": {},
          "execution_count": 114
        }
      ]
    },
    {
      "cell_type": "code",
      "source": [
        "# seek_help轉換\n",
        "\n",
        "df.seek_help = df.seek_help.astype('category')\n",
        "df.seek_help = df.seek_help.cat.codes\n",
        "\n",
        "test.seek_help = test.seek_help.astype('category')\n",
        "test.seek_help = test.seek_help.cat.codes\n",
        "\n",
        "test.seek_help.unique()"
      ],
      "metadata": {
        "colab": {
          "base_uri": "https://localhost:8080/"
        },
        "id": "l5EDgMkqZLLB",
        "outputId": "4aea87b4-5dbe-4de0-c15c-4a014b8dffbf"
      },
      "execution_count": null,
      "outputs": [
        {
          "output_type": "execute_result",
          "data": {
            "text/plain": [
              "array([1, 0, 2], dtype=int8)"
            ]
          },
          "metadata": {},
          "execution_count": 115
        }
      ]
    },
    {
      "cell_type": "code",
      "source": [
        "df.anonymity.unique()"
      ],
      "metadata": {
        "colab": {
          "base_uri": "https://localhost:8080/"
        },
        "id": "prpQAAdnUUW9",
        "outputId": "dc0d7a68-5f8f-405e-816d-5acf052dd7f7"
      },
      "execution_count": null,
      "outputs": [
        {
          "output_type": "execute_result",
          "data": {
            "text/plain": [
              "array(['Yes', \"Don't know\", 'No'], dtype=object)"
            ]
          },
          "metadata": {},
          "execution_count": 116
        }
      ]
    },
    {
      "cell_type": "code",
      "source": [
        "# anonymity轉換\n",
        "\n",
        "df.anonymity = df.anonymity.astype('category')\n",
        "df.anonymity = df.anonymity.cat.codes\n",
        "\n",
        "\n",
        "test.anonymity = test.anonymity.astype('category')\n",
        "test.anonymity = test.anonymity.cat.codes\n",
        "\n",
        "test.anonymity.unique()"
      ],
      "metadata": {
        "colab": {
          "base_uri": "https://localhost:8080/"
        },
        "id": "AMyme4XgZMMs",
        "outputId": "8cfde062-584d-41cb-c4ce-a69498b75e4e"
      },
      "execution_count": null,
      "outputs": [
        {
          "output_type": "execute_result",
          "data": {
            "text/plain": [
              "array([0, 2, 1], dtype=int8)"
            ]
          },
          "metadata": {},
          "execution_count": 117
        }
      ]
    },
    {
      "cell_type": "code",
      "source": [
        "df.mental_health_consequence.unique()"
      ],
      "metadata": {
        "colab": {
          "base_uri": "https://localhost:8080/"
        },
        "id": "_ZKr5ddWU4sA",
        "outputId": "9c390971-251f-4d46-d2c8-530aef0b312c"
      },
      "execution_count": null,
      "outputs": [
        {
          "output_type": "execute_result",
          "data": {
            "text/plain": [
              "array(['No', 'Maybe', 'Yes'], dtype=object)"
            ]
          },
          "metadata": {},
          "execution_count": 118
        }
      ]
    },
    {
      "cell_type": "code",
      "source": [
        "# mental_health_consequence轉換\n",
        "\n",
        "df.mental_health_consequence = df.mental_health_consequence.astype('category')\n",
        "df.mental_health_consequence = df.mental_health_consequence.cat.codes\n",
        "\n",
        "test.mental_health_consequence = test.mental_health_consequence.astype('category')\n",
        "test.mental_health_consequence = test.mental_health_consequence.cat.codes\n",
        "\n",
        "test.mental_health_consequence.unique()"
      ],
      "metadata": {
        "colab": {
          "base_uri": "https://localhost:8080/"
        },
        "id": "vAM3FR7OZNOp",
        "outputId": "e5ebce7c-a712-4349-f722-cd5d79706b6a"
      },
      "execution_count": null,
      "outputs": [
        {
          "output_type": "execute_result",
          "data": {
            "text/plain": [
              "array([1, 2, 0], dtype=int8)"
            ]
          },
          "metadata": {},
          "execution_count": 119
        }
      ]
    },
    {
      "cell_type": "code",
      "source": [
        "df.phys_health_consequence.unique()"
      ],
      "metadata": {
        "colab": {
          "base_uri": "https://localhost:8080/"
        },
        "id": "JhkKKt-qVEk0",
        "outputId": "64e8525f-a54a-446c-a614-94555eed0f13"
      },
      "execution_count": null,
      "outputs": [
        {
          "output_type": "execute_result",
          "data": {
            "text/plain": [
              "array(['No', 'Yes', 'Maybe'], dtype=object)"
            ]
          },
          "metadata": {},
          "execution_count": 120
        }
      ]
    },
    {
      "cell_type": "code",
      "source": [
        "# phys_health_consequence轉換\n",
        "\n",
        "df.phys_health_consequence = df.phys_health_consequence.astype('category')\n",
        "df.phys_health_consequence = df.phys_health_consequence.cat.codes\n",
        "\n",
        "test.phys_health_consequence = test.phys_health_consequence.astype('category')\n",
        "test.phys_health_consequence = test.phys_health_consequence.cat.codes\n",
        "\n",
        "test.phys_health_consequence.unique()"
      ],
      "metadata": {
        "colab": {
          "base_uri": "https://localhost:8080/"
        },
        "id": "bnbcwIhMZPeR",
        "outputId": "664a517b-5c83-4d6b-a460-8e9ffa83fbe9"
      },
      "execution_count": null,
      "outputs": [
        {
          "output_type": "execute_result",
          "data": {
            "text/plain": [
              "array([1, 2, 0], dtype=int8)"
            ]
          },
          "metadata": {},
          "execution_count": 121
        }
      ]
    },
    {
      "cell_type": "code",
      "source": [
        "test.phys_health_consequence.unique()"
      ],
      "metadata": {
        "colab": {
          "base_uri": "https://localhost:8080/"
        },
        "id": "pGQbA6yvhbH1",
        "outputId": "eab69cbe-af81-4e1b-feaa-19293a8df5a7"
      },
      "execution_count": null,
      "outputs": [
        {
          "output_type": "execute_result",
          "data": {
            "text/plain": [
              "array([1, 2, 0], dtype=int8)"
            ]
          },
          "metadata": {},
          "execution_count": 122
        }
      ]
    },
    {
      "cell_type": "code",
      "source": [
        "df.coworkers.unique()"
      ],
      "metadata": {
        "colab": {
          "base_uri": "https://localhost:8080/"
        },
        "id": "N8pp1Ft_U4pa",
        "outputId": "fd0bda0b-e7b1-47a9-9340-734cc1cc4a29"
      },
      "execution_count": null,
      "outputs": [
        {
          "output_type": "execute_result",
          "data": {
            "text/plain": [
              "array(['Some of them', 'No', 'Yes'], dtype=object)"
            ]
          },
          "metadata": {},
          "execution_count": 123
        }
      ]
    },
    {
      "cell_type": "code",
      "source": [
        "# coworkers轉換\n",
        "\n",
        "df.coworkers = df.coworkers.astype('category')\n",
        "df.coworkers = df.coworkers.cat.codes\n",
        "df.coworkers.value_counts()\n",
        "\n",
        "test.coworkers = test.coworkers.astype('category')\n",
        "test.coworkers = test.coworkers.cat.codes\n",
        "\n",
        "test.coworkers.unique()"
      ],
      "metadata": {
        "colab": {
          "base_uri": "https://localhost:8080/"
        },
        "id": "u7V_G8-NZQYX",
        "outputId": "60fe9341-d023-4c4c-e7bc-20e2f5d275a9"
      },
      "execution_count": null,
      "outputs": [
        {
          "output_type": "execute_result",
          "data": {
            "text/plain": [
              "array([2, 1, 0], dtype=int8)"
            ]
          },
          "metadata": {},
          "execution_count": 124
        }
      ]
    },
    {
      "cell_type": "code",
      "source": [
        "df.supervisor.unique()"
      ],
      "metadata": {
        "colab": {
          "base_uri": "https://localhost:8080/"
        },
        "id": "eQedXEqlVMJZ",
        "outputId": "25eeb7c5-0ec3-43ab-da4c-cb1198d501a3"
      },
      "execution_count": null,
      "outputs": [
        {
          "output_type": "execute_result",
          "data": {
            "text/plain": [
              "array(['Yes', 'No', 'Some of them'], dtype=object)"
            ]
          },
          "metadata": {},
          "execution_count": 125
        }
      ]
    },
    {
      "cell_type": "code",
      "source": [
        "# supervisor轉換\n",
        "\n",
        "df.supervisor = df.supervisor.astype('category')\n",
        "df.supervisor = df.supervisor.cat.codes\n",
        "\n",
        "test.supervisor = test.supervisor.astype('category')\n",
        "test.supervisor = test.supervisor.cat.codes\n",
        "\n",
        "test.coworkers.unique()"
      ],
      "metadata": {
        "colab": {
          "base_uri": "https://localhost:8080/"
        },
        "id": "a2R2tOeoZT5L",
        "outputId": "7f774c80-a76f-4842-db00-471d16539cb6"
      },
      "execution_count": null,
      "outputs": [
        {
          "output_type": "execute_result",
          "data": {
            "text/plain": [
              "array([2, 1, 0], dtype=int8)"
            ]
          },
          "metadata": {},
          "execution_count": 126
        }
      ]
    },
    {
      "cell_type": "code",
      "source": [
        "df.mental_health_interview.unique()"
      ],
      "metadata": {
        "colab": {
          "base_uri": "https://localhost:8080/"
        },
        "id": "WjZQ9WSCU4mP",
        "outputId": "aeda81fc-d78c-44b2-cb2b-e8530308f0d8"
      },
      "execution_count": null,
      "outputs": [
        {
          "output_type": "execute_result",
          "data": {
            "text/plain": [
              "array(['No', 'Yes', 'Maybe'], dtype=object)"
            ]
          },
          "metadata": {},
          "execution_count": 127
        }
      ]
    },
    {
      "cell_type": "code",
      "source": [
        "# mental_health_interview轉換\n",
        "\n",
        "df.mental_health_interview = df.mental_health_interview.astype('category')\n",
        "df.mental_health_interview = df.mental_health_interview.cat.codes\n",
        "\n",
        "test.mental_health_interview = test.mental_health_interview.astype('category')\n",
        "test.mental_health_interview = test.mental_health_interview.cat.codes\n",
        "\n",
        "test.mental_health_interview.unique()"
      ],
      "metadata": {
        "colab": {
          "base_uri": "https://localhost:8080/"
        },
        "id": "XInm89NRZVBb",
        "outputId": "9881770c-2ec0-4dad-ffac-923cacad0581"
      },
      "execution_count": null,
      "outputs": [
        {
          "output_type": "execute_result",
          "data": {
            "text/plain": [
              "array([0, 1, 2], dtype=int8)"
            ]
          },
          "metadata": {},
          "execution_count": 128
        }
      ]
    },
    {
      "cell_type": "code",
      "source": [
        "df.phys_health_interview.unique()"
      ],
      "metadata": {
        "colab": {
          "base_uri": "https://localhost:8080/"
        },
        "id": "letL1ranU4jY",
        "outputId": "ffbf27a3-a1d3-401d-dec3-ed5f89207fef"
      },
      "execution_count": null,
      "outputs": [
        {
          "output_type": "execute_result",
          "data": {
            "text/plain": [
              "array(['Maybe', 'No', 'Yes'], dtype=object)"
            ]
          },
          "metadata": {},
          "execution_count": 129
        }
      ]
    },
    {
      "cell_type": "code",
      "source": [
        "# phys_health_interview轉換\n",
        "\n",
        "df.phys_health_interview = df.phys_health_interview.astype('category')\n",
        "df.phys_health_interview = df.phys_health_interview.cat.codes\n",
        "\n",
        "test.phys_health_interview = test.phys_health_interview.astype('category')\n",
        "test.phys_health_interview = test.phys_health_interview.cat.codes\n",
        "\n",
        "test.phys_health_interview.unique()"
      ],
      "metadata": {
        "colab": {
          "base_uri": "https://localhost:8080/"
        },
        "id": "AM_1LRLhZSLh",
        "outputId": "2b099abf-95b5-4825-fe03-a26ec27784ee"
      },
      "execution_count": null,
      "outputs": [
        {
          "output_type": "execute_result",
          "data": {
            "text/plain": [
              "array([2, 1, 0], dtype=int8)"
            ]
          },
          "metadata": {},
          "execution_count": 130
        }
      ]
    },
    {
      "cell_type": "code",
      "source": [
        "df.mental_vs_physical.unique()"
      ],
      "metadata": {
        "colab": {
          "base_uri": "https://localhost:8080/"
        },
        "id": "stmZ_9CPUUPB",
        "outputId": "636eadb2-133a-4748-a84d-b490ce365949"
      },
      "execution_count": null,
      "outputs": [
        {
          "output_type": "execute_result",
          "data": {
            "text/plain": [
              "array(['Yes', \"Don't know\", 'No'], dtype=object)"
            ]
          },
          "metadata": {},
          "execution_count": 131
        }
      ]
    },
    {
      "cell_type": "code",
      "source": [
        "# mental_vs_physical轉換\n",
        "\n",
        "df.mental_vs_physical = df.mental_vs_physical.astype('category')\n",
        "df.mental_vs_physical = df.mental_vs_physical.cat.codes\n",
        "\n",
        "test.mental_vs_physical = test.mental_vs_physical.astype('category')\n",
        "test.mental_vs_physical = test.mental_vs_physical.cat.codes\n",
        "\n",
        "test.mental_vs_physical.unique()"
      ],
      "metadata": {
        "colab": {
          "base_uri": "https://localhost:8080/"
        },
        "id": "ck6WmZn7ZRYv",
        "outputId": "722d4ce9-6528-4306-ddfe-44f6d4489f1e"
      },
      "execution_count": null,
      "outputs": [
        {
          "output_type": "execute_result",
          "data": {
            "text/plain": [
              "array([2, 1, 0], dtype=int8)"
            ]
          },
          "metadata": {},
          "execution_count": 132
        }
      ]
    },
    {
      "cell_type": "code",
      "source": [
        "df.obs_consequence.unique()"
      ],
      "metadata": {
        "colab": {
          "base_uri": "https://localhost:8080/"
        },
        "id": "Qh1D2YZwlAm7",
        "outputId": "a857592d-7213-46a4-acf3-4d64ff5324b6"
      },
      "execution_count": null,
      "outputs": [
        {
          "output_type": "execute_result",
          "data": {
            "text/plain": [
              "array(['No', 'Yes'], dtype=object)"
            ]
          },
          "metadata": {},
          "execution_count": 133
        }
      ]
    },
    {
      "cell_type": "code",
      "source": [
        "# obs_consequence轉換\n",
        "\n",
        "df.obs_consequence = df.obs_consequence.astype('category')\n",
        "df.obs_consequence = df.obs_consequence.cat.codes\n",
        "\n",
        "test.obs_consequence = test.obs_consequence.astype('category')\n",
        "test.obs_consequence = test.obs_consequence.cat.codes\n",
        "\n",
        "test.obs_consequence.unique()"
      ],
      "metadata": {
        "colab": {
          "base_uri": "https://localhost:8080/"
        },
        "id": "K6PnsvXWlAgi",
        "outputId": "24ff6967-38b2-48e6-af69-1645c49b60d6"
      },
      "execution_count": null,
      "outputs": [
        {
          "output_type": "execute_result",
          "data": {
            "text/plain": [
              "array([0, 1], dtype=int8)"
            ]
          },
          "metadata": {},
          "execution_count": 134
        }
      ]
    },
    {
      "cell_type": "code",
      "source": [
        "from pandas.core.groupby.groupby import T\n",
        "# yes0 no1\n",
        "df.treatment = df.treatment.astype('category')\n",
        "df.treatment = df.treatment.cat.codes\n",
        "df.treatment.value_counts()\n"
      ],
      "metadata": {
        "colab": {
          "base_uri": "https://localhost:8080/"
        },
        "id": "49s5AN92pKYF",
        "outputId": "a2e9700b-e2ae-47c5-f39e-fcad7e31ac21"
      },
      "execution_count": null,
      "outputs": [
        {
          "output_type": "execute_result",
          "data": {
            "text/plain": [
              "1    510\n",
              "0    497\n",
              "Name: treatment, dtype: int64"
            ]
          },
          "metadata": {},
          "execution_count": 135
        }
      ]
    },
    {
      "cell_type": "code",
      "source": [
        "test"
      ],
      "metadata": {
        "colab": {
          "base_uri": "https://localhost:8080/",
          "height": 488
        },
        "id": "pHqY7hIgkZWu",
        "outputId": "28a1cae3-3b23-4984-e7dd-576b9f0cc99f"
      },
      "execution_count": null,
      "outputs": [
        {
          "output_type": "execute_result",
          "data": {
            "text/plain": [
              "     Age Gender  self_employed  family_history work_interfere no_employees  \\\n",
              "0     24      1              0               1              1            0   \n",
              "1     35      1              0               0            NaN            0   \n",
              "2     32      0              0               0              2            1   \n",
              "3     29      1              0               0              1            2   \n",
              "4     39      1              0               0            NaN            2   \n",
              "..   ...    ...            ...             ...            ...          ...   \n",
              "247   28      1              0               1              3            0   \n",
              "248   41      1              0               1              3            2   \n",
              "249   33      0              0               0            NaN            0   \n",
              "250   45      1              0               0              0            2   \n",
              "251   30      1              1               0              2            0   \n",
              "\n",
              "     remote_work  tech_company  benefits  care_options  ...  anonymity  leave  \\\n",
              "0              1             1         0             0  ...          0      0   \n",
              "1              0             0         0             1  ...          0      2   \n",
              "2              0             1         1             0  ...          0      1   \n",
              "3              0             1         2             0  ...          0      0   \n",
              "4              1             1         0             1  ...          0      2   \n",
              "..           ...           ...       ...           ...  ...        ...    ...   \n",
              "247            0             1         1             0  ...          0      0   \n",
              "248            0             1         2             0  ...          0      2   \n",
              "249            0             1         1             0  ...          0      1   \n",
              "250            1             1         0             1  ...          0      2   \n",
              "251            1             1         1             0  ...          0      1   \n",
              "\n",
              "     mental_health_consequence phys_health_consequence  coworkers  supervisor  \\\n",
              "0                            1                       1          2           2   \n",
              "1                            1                       1          2           2   \n",
              "2                            2                       2          1           0   \n",
              "3                            2                       0          1           0   \n",
              "4                            1                       1          1           2   \n",
              "..                         ...                     ...        ...         ...   \n",
              "247                          0                       0          2           2   \n",
              "248                          0                       0          1           1   \n",
              "249                          0                       1          1           1   \n",
              "250                          2                       1          2           1   \n",
              "251                          1                       1          1           1   \n",
              "\n",
              "     mental_health_interview  phys_health_interview  mental_vs_physical  \\\n",
              "0                          0                      2                   2   \n",
              "1                          1                      1                   1   \n",
              "2                          1                      1                   1   \n",
              "3                          1                      1                   0   \n",
              "4                          1                      1                   0   \n",
              "..                       ...                    ...                 ...   \n",
              "247                        1                      1                   1   \n",
              "248                        1                      1                   0   \n",
              "249                        1                      1                   0   \n",
              "250                        1                      1                   1   \n",
              "251                        1                      0                   1   \n",
              "\n",
              "     obs_consequence  \n",
              "0                  0  \n",
              "1                  0  \n",
              "2                  1  \n",
              "3                  0  \n",
              "4                  0  \n",
              "..               ...  \n",
              "247                0  \n",
              "248                1  \n",
              "249                0  \n",
              "250                1  \n",
              "251                0  \n",
              "\n",
              "[252 rows x 22 columns]"
            ],
            "text/html": [
              "\n",
              "  <div id=\"df-06364921-8e8d-4fa9-b9f9-92d83b246796\">\n",
              "    <div class=\"colab-df-container\">\n",
              "      <div>\n",
              "<style scoped>\n",
              "    .dataframe tbody tr th:only-of-type {\n",
              "        vertical-align: middle;\n",
              "    }\n",
              "\n",
              "    .dataframe tbody tr th {\n",
              "        vertical-align: top;\n",
              "    }\n",
              "\n",
              "    .dataframe thead th {\n",
              "        text-align: right;\n",
              "    }\n",
              "</style>\n",
              "<table border=\"1\" class=\"dataframe\">\n",
              "  <thead>\n",
              "    <tr style=\"text-align: right;\">\n",
              "      <th></th>\n",
              "      <th>Age</th>\n",
              "      <th>Gender</th>\n",
              "      <th>self_employed</th>\n",
              "      <th>family_history</th>\n",
              "      <th>work_interfere</th>\n",
              "      <th>no_employees</th>\n",
              "      <th>remote_work</th>\n",
              "      <th>tech_company</th>\n",
              "      <th>benefits</th>\n",
              "      <th>care_options</th>\n",
              "      <th>...</th>\n",
              "      <th>anonymity</th>\n",
              "      <th>leave</th>\n",
              "      <th>mental_health_consequence</th>\n",
              "      <th>phys_health_consequence</th>\n",
              "      <th>coworkers</th>\n",
              "      <th>supervisor</th>\n",
              "      <th>mental_health_interview</th>\n",
              "      <th>phys_health_interview</th>\n",
              "      <th>mental_vs_physical</th>\n",
              "      <th>obs_consequence</th>\n",
              "    </tr>\n",
              "  </thead>\n",
              "  <tbody>\n",
              "    <tr>\n",
              "      <th>0</th>\n",
              "      <td>24</td>\n",
              "      <td>1</td>\n",
              "      <td>0</td>\n",
              "      <td>1</td>\n",
              "      <td>1</td>\n",
              "      <td>0</td>\n",
              "      <td>1</td>\n",
              "      <td>1</td>\n",
              "      <td>0</td>\n",
              "      <td>0</td>\n",
              "      <td>...</td>\n",
              "      <td>0</td>\n",
              "      <td>0</td>\n",
              "      <td>1</td>\n",
              "      <td>1</td>\n",
              "      <td>2</td>\n",
              "      <td>2</td>\n",
              "      <td>0</td>\n",
              "      <td>2</td>\n",
              "      <td>2</td>\n",
              "      <td>0</td>\n",
              "    </tr>\n",
              "    <tr>\n",
              "      <th>1</th>\n",
              "      <td>35</td>\n",
              "      <td>1</td>\n",
              "      <td>0</td>\n",
              "      <td>0</td>\n",
              "      <td>NaN</td>\n",
              "      <td>0</td>\n",
              "      <td>0</td>\n",
              "      <td>0</td>\n",
              "      <td>0</td>\n",
              "      <td>1</td>\n",
              "      <td>...</td>\n",
              "      <td>0</td>\n",
              "      <td>2</td>\n",
              "      <td>1</td>\n",
              "      <td>1</td>\n",
              "      <td>2</td>\n",
              "      <td>2</td>\n",
              "      <td>1</td>\n",
              "      <td>1</td>\n",
              "      <td>1</td>\n",
              "      <td>0</td>\n",
              "    </tr>\n",
              "    <tr>\n",
              "      <th>2</th>\n",
              "      <td>32</td>\n",
              "      <td>0</td>\n",
              "      <td>0</td>\n",
              "      <td>0</td>\n",
              "      <td>2</td>\n",
              "      <td>1</td>\n",
              "      <td>0</td>\n",
              "      <td>1</td>\n",
              "      <td>1</td>\n",
              "      <td>0</td>\n",
              "      <td>...</td>\n",
              "      <td>0</td>\n",
              "      <td>1</td>\n",
              "      <td>2</td>\n",
              "      <td>2</td>\n",
              "      <td>1</td>\n",
              "      <td>0</td>\n",
              "      <td>1</td>\n",
              "      <td>1</td>\n",
              "      <td>1</td>\n",
              "      <td>1</td>\n",
              "    </tr>\n",
              "    <tr>\n",
              "      <th>3</th>\n",
              "      <td>29</td>\n",
              "      <td>1</td>\n",
              "      <td>0</td>\n",
              "      <td>0</td>\n",
              "      <td>1</td>\n",
              "      <td>2</td>\n",
              "      <td>0</td>\n",
              "      <td>1</td>\n",
              "      <td>2</td>\n",
              "      <td>0</td>\n",
              "      <td>...</td>\n",
              "      <td>0</td>\n",
              "      <td>0</td>\n",
              "      <td>2</td>\n",
              "      <td>0</td>\n",
              "      <td>1</td>\n",
              "      <td>0</td>\n",
              "      <td>1</td>\n",
              "      <td>1</td>\n",
              "      <td>0</td>\n",
              "      <td>0</td>\n",
              "    </tr>\n",
              "    <tr>\n",
              "      <th>4</th>\n",
              "      <td>39</td>\n",
              "      <td>1</td>\n",
              "      <td>0</td>\n",
              "      <td>0</td>\n",
              "      <td>NaN</td>\n",
              "      <td>2</td>\n",
              "      <td>1</td>\n",
              "      <td>1</td>\n",
              "      <td>0</td>\n",
              "      <td>1</td>\n",
              "      <td>...</td>\n",
              "      <td>0</td>\n",
              "      <td>2</td>\n",
              "      <td>1</td>\n",
              "      <td>1</td>\n",
              "      <td>1</td>\n",
              "      <td>2</td>\n",
              "      <td>1</td>\n",
              "      <td>1</td>\n",
              "      <td>0</td>\n",
              "      <td>0</td>\n",
              "    </tr>\n",
              "    <tr>\n",
              "      <th>...</th>\n",
              "      <td>...</td>\n",
              "      <td>...</td>\n",
              "      <td>...</td>\n",
              "      <td>...</td>\n",
              "      <td>...</td>\n",
              "      <td>...</td>\n",
              "      <td>...</td>\n",
              "      <td>...</td>\n",
              "      <td>...</td>\n",
              "      <td>...</td>\n",
              "      <td>...</td>\n",
              "      <td>...</td>\n",
              "      <td>...</td>\n",
              "      <td>...</td>\n",
              "      <td>...</td>\n",
              "      <td>...</td>\n",
              "      <td>...</td>\n",
              "      <td>...</td>\n",
              "      <td>...</td>\n",
              "      <td>...</td>\n",
              "      <td>...</td>\n",
              "    </tr>\n",
              "    <tr>\n",
              "      <th>247</th>\n",
              "      <td>28</td>\n",
              "      <td>1</td>\n",
              "      <td>0</td>\n",
              "      <td>1</td>\n",
              "      <td>3</td>\n",
              "      <td>0</td>\n",
              "      <td>0</td>\n",
              "      <td>1</td>\n",
              "      <td>1</td>\n",
              "      <td>0</td>\n",
              "      <td>...</td>\n",
              "      <td>0</td>\n",
              "      <td>0</td>\n",
              "      <td>0</td>\n",
              "      <td>0</td>\n",
              "      <td>2</td>\n",
              "      <td>2</td>\n",
              "      <td>1</td>\n",
              "      <td>1</td>\n",
              "      <td>1</td>\n",
              "      <td>0</td>\n",
              "    </tr>\n",
              "    <tr>\n",
              "      <th>248</th>\n",
              "      <td>41</td>\n",
              "      <td>1</td>\n",
              "      <td>0</td>\n",
              "      <td>1</td>\n",
              "      <td>3</td>\n",
              "      <td>2</td>\n",
              "      <td>0</td>\n",
              "      <td>1</td>\n",
              "      <td>2</td>\n",
              "      <td>0</td>\n",
              "      <td>...</td>\n",
              "      <td>0</td>\n",
              "      <td>2</td>\n",
              "      <td>0</td>\n",
              "      <td>0</td>\n",
              "      <td>1</td>\n",
              "      <td>1</td>\n",
              "      <td>1</td>\n",
              "      <td>1</td>\n",
              "      <td>0</td>\n",
              "      <td>1</td>\n",
              "    </tr>\n",
              "    <tr>\n",
              "      <th>249</th>\n",
              "      <td>33</td>\n",
              "      <td>0</td>\n",
              "      <td>0</td>\n",
              "      <td>0</td>\n",
              "      <td>NaN</td>\n",
              "      <td>0</td>\n",
              "      <td>0</td>\n",
              "      <td>1</td>\n",
              "      <td>1</td>\n",
              "      <td>0</td>\n",
              "      <td>...</td>\n",
              "      <td>0</td>\n",
              "      <td>1</td>\n",
              "      <td>0</td>\n",
              "      <td>1</td>\n",
              "      <td>1</td>\n",
              "      <td>1</td>\n",
              "      <td>1</td>\n",
              "      <td>1</td>\n",
              "      <td>0</td>\n",
              "      <td>0</td>\n",
              "    </tr>\n",
              "    <tr>\n",
              "      <th>250</th>\n",
              "      <td>45</td>\n",
              "      <td>1</td>\n",
              "      <td>0</td>\n",
              "      <td>0</td>\n",
              "      <td>0</td>\n",
              "      <td>2</td>\n",
              "      <td>1</td>\n",
              "      <td>1</td>\n",
              "      <td>0</td>\n",
              "      <td>1</td>\n",
              "      <td>...</td>\n",
              "      <td>0</td>\n",
              "      <td>2</td>\n",
              "      <td>2</td>\n",
              "      <td>1</td>\n",
              "      <td>2</td>\n",
              "      <td>1</td>\n",
              "      <td>1</td>\n",
              "      <td>1</td>\n",
              "      <td>1</td>\n",
              "      <td>1</td>\n",
              "    </tr>\n",
              "    <tr>\n",
              "      <th>251</th>\n",
              "      <td>30</td>\n",
              "      <td>1</td>\n",
              "      <td>1</td>\n",
              "      <td>0</td>\n",
              "      <td>2</td>\n",
              "      <td>0</td>\n",
              "      <td>1</td>\n",
              "      <td>1</td>\n",
              "      <td>1</td>\n",
              "      <td>0</td>\n",
              "      <td>...</td>\n",
              "      <td>0</td>\n",
              "      <td>1</td>\n",
              "      <td>1</td>\n",
              "      <td>1</td>\n",
              "      <td>1</td>\n",
              "      <td>1</td>\n",
              "      <td>1</td>\n",
              "      <td>0</td>\n",
              "      <td>1</td>\n",
              "      <td>0</td>\n",
              "    </tr>\n",
              "  </tbody>\n",
              "</table>\n",
              "<p>252 rows × 22 columns</p>\n",
              "</div>\n",
              "      <button class=\"colab-df-convert\" onclick=\"convertToInteractive('df-06364921-8e8d-4fa9-b9f9-92d83b246796')\"\n",
              "              title=\"Convert this dataframe to an interactive table.\"\n",
              "              style=\"display:none;\">\n",
              "        \n",
              "  <svg xmlns=\"http://www.w3.org/2000/svg\" height=\"24px\"viewBox=\"0 0 24 24\"\n",
              "       width=\"24px\">\n",
              "    <path d=\"M0 0h24v24H0V0z\" fill=\"none\"/>\n",
              "    <path d=\"M18.56 5.44l.94 2.06.94-2.06 2.06-.94-2.06-.94-.94-2.06-.94 2.06-2.06.94zm-11 1L8.5 8.5l.94-2.06 2.06-.94-2.06-.94L8.5 2.5l-.94 2.06-2.06.94zm10 10l.94 2.06.94-2.06 2.06-.94-2.06-.94-.94-2.06-.94 2.06-2.06.94z\"/><path d=\"M17.41 7.96l-1.37-1.37c-.4-.4-.92-.59-1.43-.59-.52 0-1.04.2-1.43.59L10.3 9.45l-7.72 7.72c-.78.78-.78 2.05 0 2.83L4 21.41c.39.39.9.59 1.41.59.51 0 1.02-.2 1.41-.59l7.78-7.78 2.81-2.81c.8-.78.8-2.07 0-2.86zM5.41 20L4 18.59l7.72-7.72 1.47 1.35L5.41 20z\"/>\n",
              "  </svg>\n",
              "      </button>\n",
              "      \n",
              "  <style>\n",
              "    .colab-df-container {\n",
              "      display:flex;\n",
              "      flex-wrap:wrap;\n",
              "      gap: 12px;\n",
              "    }\n",
              "\n",
              "    .colab-df-convert {\n",
              "      background-color: #E8F0FE;\n",
              "      border: none;\n",
              "      border-radius: 50%;\n",
              "      cursor: pointer;\n",
              "      display: none;\n",
              "      fill: #1967D2;\n",
              "      height: 32px;\n",
              "      padding: 0 0 0 0;\n",
              "      width: 32px;\n",
              "    }\n",
              "\n",
              "    .colab-df-convert:hover {\n",
              "      background-color: #E2EBFA;\n",
              "      box-shadow: 0px 1px 2px rgba(60, 64, 67, 0.3), 0px 1px 3px 1px rgba(60, 64, 67, 0.15);\n",
              "      fill: #174EA6;\n",
              "    }\n",
              "\n",
              "    [theme=dark] .colab-df-convert {\n",
              "      background-color: #3B4455;\n",
              "      fill: #D2E3FC;\n",
              "    }\n",
              "\n",
              "    [theme=dark] .colab-df-convert:hover {\n",
              "      background-color: #434B5C;\n",
              "      box-shadow: 0px 1px 3px 1px rgba(0, 0, 0, 0.15);\n",
              "      filter: drop-shadow(0px 1px 2px rgba(0, 0, 0, 0.3));\n",
              "      fill: #FFFFFF;\n",
              "    }\n",
              "  </style>\n",
              "\n",
              "      <script>\n",
              "        const buttonEl =\n",
              "          document.querySelector('#df-06364921-8e8d-4fa9-b9f9-92d83b246796 button.colab-df-convert');\n",
              "        buttonEl.style.display =\n",
              "          google.colab.kernel.accessAllowed ? 'block' : 'none';\n",
              "\n",
              "        async function convertToInteractive(key) {\n",
              "          const element = document.querySelector('#df-06364921-8e8d-4fa9-b9f9-92d83b246796');\n",
              "          const dataTable =\n",
              "            await google.colab.kernel.invokeFunction('convertToInteractive',\n",
              "                                                     [key], {});\n",
              "          if (!dataTable) return;\n",
              "\n",
              "          const docLinkHtml = 'Like what you see? Visit the ' +\n",
              "            '<a target=\"_blank\" href=https://colab.research.google.com/notebooks/data_table.ipynb>data table notebook</a>'\n",
              "            + ' to learn more about interactive tables.';\n",
              "          element.innerHTML = '';\n",
              "          dataTable['output_type'] = 'display_data';\n",
              "          await google.colab.output.renderOutput(dataTable, element);\n",
              "          const docLink = document.createElement('div');\n",
              "          docLink.innerHTML = docLinkHtml;\n",
              "          element.appendChild(docLink);\n",
              "        }\n",
              "      </script>\n",
              "    </div>\n",
              "  </div>\n",
              "  "
            ]
          },
          "metadata": {},
          "execution_count": 136
        }
      ]
    },
    {
      "cell_type": "code",
      "source": [
        "# 找缺失值\n",
        "df.isnull()\n",
        "\n",
        "# 處理缺失值\n",
        "df.fillna(df.mean(),inplace=True)\n",
        "test.fillna(df.mean(),inplace=True)\n",
        "\n",
        "test.isnull().sum()"
      ],
      "metadata": {
        "colab": {
          "base_uri": "https://localhost:8080/"
        },
        "id": "W3boGk4dliv3",
        "outputId": "336d48b1-409e-49f2-b04d-2a20b4dcd285"
      },
      "execution_count": null,
      "outputs": [
        {
          "output_type": "execute_result",
          "data": {
            "text/plain": [
              "Age                          0\n",
              "Gender                       0\n",
              "self_employed                0\n",
              "family_history               0\n",
              "work_interfere               0\n",
              "no_employees                 0\n",
              "remote_work                  0\n",
              "tech_company                 0\n",
              "benefits                     0\n",
              "care_options                 0\n",
              "wellness_program             0\n",
              "seek_help                    0\n",
              "anonymity                    0\n",
              "leave                        0\n",
              "mental_health_consequence    0\n",
              "phys_health_consequence      0\n",
              "coworkers                    0\n",
              "supervisor                   0\n",
              "mental_health_interview      0\n",
              "phys_health_interview        0\n",
              "mental_vs_physical           0\n",
              "obs_consequence              0\n",
              "dtype: int64"
            ]
          },
          "metadata": {},
          "execution_count": 137
        }
      ]
    },
    {
      "cell_type": "code",
      "source": [
        "from sklearn.linear_model import LogisticRegression\n",
        "from sklearn.model_selection import train_test_split\n",
        "# Train and Test set\n",
        "X = df.drop('treatment', axis=1)\n",
        "y = df.treatment\n",
        "\n",
        "# Splitting\n",
        "X_train, X_val, y_train, y_val = train_test_split(X, y, test_size = 0.2, random_state = 409570092) # random_state改成你自己的學號，純數字\n",
        "\n",
        "\n",
        "# 建立邏輯迴歸的實體\n",
        "logisticModel = LogisticRegression()\n",
        "\n",
        "# 學習\n",
        "logisticModel.fit(X_train, y_train)"
      ],
      "metadata": {
        "id": "KlK8MAlEUAMU",
        "colab": {
          "base_uri": "https://localhost:8080/"
        },
        "outputId": "3c5eb8bd-c6c7-4fdf-b16f-bfaaff316abb"
      },
      "execution_count": null,
      "outputs": [
        {
          "output_type": "execute_result",
          "data": {
            "text/plain": [
              "LogisticRegression()"
            ]
          },
          "metadata": {},
          "execution_count": 138
        }
      ]
    },
    {
      "cell_type": "code",
      "source": [
        "# 預測\n",
        "y_pred = logisticModel.predict(X_val)\n",
        "y_pred"
      ],
      "metadata": {
        "colab": {
          "base_uri": "https://localhost:8080/"
        },
        "id": "A4XDndjhmIeG",
        "outputId": "9f7f1496-51f4-4a84-f983-fd1ba43278e0"
      },
      "execution_count": null,
      "outputs": [
        {
          "output_type": "execute_result",
          "data": {
            "text/plain": [
              "array([0, 0, 0, 1, 0, 0, 0, 0, 0, 0, 1, 1, 0, 0, 0, 0, 1, 1, 1, 0, 1, 1,\n",
              "       1, 1, 1, 1, 1, 0, 0, 1, 0, 1, 0, 1, 1, 1, 0, 1, 0, 0, 1, 0, 1, 0,\n",
              "       0, 0, 0, 0, 0, 0, 0, 0, 0, 0, 1, 1, 1, 0, 0, 1, 0, 0, 1, 0, 1, 0,\n",
              "       1, 1, 1, 1, 0, 1, 1, 0, 1, 0, 1, 1, 1, 0, 1, 0, 0, 1, 0, 0, 0, 1,\n",
              "       1, 0, 0, 1, 1, 0, 0, 1, 0, 0, 1, 1, 0, 0, 1, 0, 0, 1, 1, 1, 0, 0,\n",
              "       0, 0, 0, 1, 1, 0, 1, 0, 1, 1, 1, 1, 0, 0, 0, 0, 1, 1, 1, 1, 1, 1,\n",
              "       0, 0, 1, 1, 1, 1, 0, 1, 0, 0, 1, 1, 0, 0, 1, 0, 1, 1, 0, 0, 1, 0,\n",
              "       1, 1, 1, 1, 1, 1, 1, 0, 0, 0, 0, 0, 1, 1, 0, 0, 0, 1, 1, 1, 1, 1,\n",
              "       1, 1, 0, 0, 1, 1, 0, 0, 0, 1, 0, 1, 0, 1, 1, 0, 0, 1, 1, 0, 0, 0,\n",
              "       1, 0, 1, 0], dtype=int8)"
            ]
          },
          "metadata": {},
          "execution_count": 139
        }
      ]
    },
    {
      "cell_type": "code",
      "source": [
        "from sklearn.metrics import classification_report,confusion_matrix\n",
        "print('Classification Report: \\n', classification_report(y_val,y_pred))"
      ],
      "metadata": {
        "colab": {
          "base_uri": "https://localhost:8080/"
        },
        "id": "pWv0HLVAWWqq",
        "outputId": "23fea545-55f4-46f7-9be8-60d29f0ebf9c"
      },
      "execution_count": null,
      "outputs": [
        {
          "output_type": "stream",
          "name": "stdout",
          "text": [
            "Classification Report: \n",
            "               precision    recall  f1-score   support\n",
            "\n",
            "           0       0.69      0.69      0.69       101\n",
            "           1       0.69      0.68      0.69       101\n",
            "\n",
            "    accuracy                           0.69       202\n",
            "   macro avg       0.69      0.69      0.69       202\n",
            "weighted avg       0.69      0.69      0.69       202\n",
            "\n"
          ]
        }
      ]
    },
    {
      "cell_type": "code",
      "source": [
        "# 左上右下越高越好\n",
        "sns.heatmap(confusion_matrix(y_val,y_pred),annot=True,fmt=\"d\")"
      ],
      "metadata": {
        "colab": {
          "base_uri": "https://localhost:8080/",
          "height": 286
        },
        "id": "58OztykRXCxJ",
        "outputId": "d69eba94-756f-46ee-ed5a-a9578b504098"
      },
      "execution_count": null,
      "outputs": [
        {
          "output_type": "execute_result",
          "data": {
            "text/plain": [
              "<matplotlib.axes._subplots.AxesSubplot at 0x7f0684b82160>"
            ]
          },
          "metadata": {},
          "execution_count": 141
        },
        {
          "output_type": "display_data",
          "data": {
            "text/plain": [
              "<Figure size 432x288 with 2 Axes>"
            ],
            "image/png": "[encoded data removed]"
          },
          "metadata": {
            "needs_background": "light"
          }
        }
      ]
    },
    {
      "cell_type": "markdown",
      "source": [
        "### Make prediction and submission file"
      ],
      "metadata": {
        "id": "8TcmoX2ikASA"
      }
    },
    {
      "cell_type": "code",
      "source": [
        "df.Gender.unique()"
      ],
      "metadata": {
        "colab": {
          "base_uri": "https://localhost:8080/"
        },
        "id": "nRMqznf5oziC",
        "outputId": "ec870b1e-bdad-4d91-eef7-ea970de1629d"
      },
      "execution_count": null,
      "outputs": [
        {
          "output_type": "execute_result",
          "data": {
            "text/plain": [
              "array([0, 1, 2])"
            ]
          },
          "metadata": {},
          "execution_count": 142
        }
      ]
    },
    {
      "cell_type": "code",
      "source": [
        "test.Gender.unique()"
      ],
      "metadata": {
        "colab": {
          "base_uri": "https://localhost:8080/"
        },
        "id": "sWPiRSjEoNAy",
        "outputId": "e581766d-806f-4adf-f75d-c7a44570f68e"
      },
      "execution_count": null,
      "outputs": [
        {
          "output_type": "execute_result",
          "data": {
            "text/plain": [
              "array([1, 0, 2])"
            ]
          },
          "metadata": {},
          "execution_count": 143
        }
      ]
    },
    {
      "cell_type": "code",
      "source": [
        "x_test = test"
      ],
      "metadata": {
        "id": "5wAydydjWQaG"
      },
      "execution_count": null,
      "outputs": []
    },
    {
      "cell_type": "code",
      "source": [
        "df_submit = pd.DataFrame([], columns=['Id', 'Treatment'])\n",
        "df_submit['Id'] = [f'{i:03d}' for i in range(len(test))]\n",
        "df_submit['Treatment'] = logisticModel.predict(test)"
      ],
      "metadata": {
        "id": "RKS43prYkCrn"
      },
      "execution_count": null,
      "outputs": []
    },
    {
      "cell_type": "code",
      "source": [
        "df_submit.to_csv('submission.csv', index=None)"
      ],
      "metadata": {
        "id": "BhL0adR_kEVY"
      },
      "execution_count": null,
      "outputs": []
    }
  ]
}