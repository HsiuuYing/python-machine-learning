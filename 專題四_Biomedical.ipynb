{
  "nbformat": 4,
  "nbformat_minor": 0,
  "metadata": {
    "colab": {
      "provenance": [],
      "include_colab_link": true
    },
    "kernelspec": {
      "name": "python3",
      "display_name": "Python 3"
    },
    "language_info": {
      "name": "python"
    }
  },
  "cells": [
    {
      "cell_type": "markdown",
      "metadata": {
        "id": "view-in-github",
        "colab_type": "text"
      },
      "source": [
        "<a href=\"https://colab.research.google.com/github/HsiuuYing/python-machine-learning/blob/main/%E5%B0%88%E9%A1%8C%E5%9B%9B_Biomedical.ipynb\" target=\"_parent\"><img src=\"https://colab.research.google.com/assets/colab-badge.svg\" alt=\"Open In Colab\"/></a>"
      ]
    },
    {
      "cell_type": "markdown",
      "source": [
        "## Datasets Source\n",
        "This dataset was from the UCI ML Repository:\n",
        "https://archive.ics.uci.edu/ml/datasets/ILPD+(Indian+Liver+Patient+Dataset)\n",
        "\n",
        "## Dataset Information\n",
        "This training dataset contains 467 records, including 333 liver patient records and 134 non liver patient records. The data set was collected from north east of Andhra Pradesh, India. Label field is a class label used to divide into groups(liver patient or not). Any patient whose age exceeded 89 is listed as being of age \"90\".\n",
        "\n",
        "## Attribute Information:\n",
        "1. Age: Age of the patient (年齡)\n",
        "2. Gender: Gender of the patient (性別)\n",
        "3. TB: Total Bilirubin (總膽紅素)\n",
        "4. DB: Direct Bilirubin (直接型膽紅素/結合型膽紅素)\n",
        "5. Alkphos: Alkaline Phosphotase (鹼性磷酸酶)\n",
        "6. Sgpt: Alamine Aminotransferase (麩胺酸丙酮酸轉氨基酶/GPT)\n",
        "7. Sgot: Aspartate Aminotransferase (麩胺酸苯醋酸轉氨基酶/GOT)\n",
        "8. TP: Total Protiens (總蛋白)\n",
        "9. ALB: Albumin (白蛋白)\n",
        "10. A/G Ratio: Albumin and Globulin Ratio (白蛋白/球蛋白比值)\n",
        "11. Label: used to split the data into two sets\n",
        "\n",
        "## Additional information\n",
        "[如何解讀肝功能檢驗報告]\n",
        "https://www.jah.org.tw/form/index-1.asp?m=3&m1=8&m2=366&gp=361&id=522\n"
      ],
      "metadata": {
        "id": "bJ3UrZV7Y7Gy"
      }
    },
    {
      "cell_type": "markdown",
      "metadata": {
        "id": "wBUpGayg3AlQ"
      },
      "source": [
        "### Download the training set"
      ]
    },
    {
      "cell_type": "code",
      "source": [
        "# Download from Google Drive\n",
        "!gdown --id 1Y2gYY8XUWgcIA_GbytBuXoRkLlAWxnAF"
      ],
      "metadata": {
        "id": "4Zb-ONyJidmK",
        "colab": {
          "base_uri": "https://localhost:8080/"
        },
        "outputId": "2de2eb10-0f6d-4e21-f92d-86a9e215a42e"
      },
      "execution_count": null,
      "outputs": [
        {
          "output_type": "stream",
          "name": "stdout",
          "text": [
            "/usr/local/lib/python3.8/dist-packages/gdown/cli.py:127: FutureWarning: Option `--id` was deprecated in version 4.3.1 and will be removed in 5.0. You don't need to pass it anymore to use a file ID.\n",
            "  warnings.warn(\n",
            "Downloading...\n",
            "From: https://drive.google.com/uc?id=1Y2gYY8XUWgcIA_GbytBuXoRkLlAWxnAF\n",
            "To: /content/project1_indian_liver_patient.zip\n",
            "100% 8.37k/8.37k [00:00<00:00, 9.13MB/s]\n"
          ]
        }
      ]
    },
    {
      "cell_type": "code",
      "source": [
        "!unzip project1_indian_liver_patient.zip\n",
        "# if seeing the message: \"replace project1_test.csv? [y]es, [n]o, [A]ll, [N]one, [r]ename:\"\n",
        "# you may enter \"A\""
      ],
      "metadata": {
        "id": "wX1Pwm0KijZX",
        "colab": {
          "base_uri": "https://localhost:8080/"
        },
        "outputId": "f0d731f8-d1ba-4d27-f3c4-b700f345289c"
      },
      "execution_count": null,
      "outputs": [
        {
          "output_type": "stream",
          "name": "stdout",
          "text": [
            "Archive:  project1_indian_liver_patient.zip\n",
            "  inflating: project1_test.csv       \n",
            "  inflating: project1_train.csv      \n"
          ]
        }
      ]
    },
    {
      "cell_type": "code",
      "source": [
        "%matplotlib inline\n",
        "import pandas as pd\n",
        "import numpy as np\n",
        "import matplotlib.pyplot as plt\n",
        "import seaborn as sns\n",
        "import warnings\n",
        "warnings.filterwarnings('ignore')"
      ],
      "metadata": {
        "id": "jRJof2yO2fM5"
      },
      "execution_count": null,
      "outputs": []
    },
    {
      "cell_type": "code",
      "metadata": {
        "id": "5oQAGaNFzIsW",
        "colab": {
          "base_uri": "https://localhost:8080/"
        },
        "outputId": "2272cd06-f15e-42ef-853e-3db0f0d45605"
      },
      "source": [
        "df = pd.read_csv('project1_train.csv')\n",
        "df.columns"
      ],
      "execution_count": null,
      "outputs": [
        {
          "output_type": "execute_result",
          "data": {
            "text/plain": [
              "Index(['Age', 'Gender', 'Total_Bilirubin', 'Direct_Bilirubin',\n",
              "       'Alkaline_Phosphotase', 'Alamine_Aminotransferase',\n",
              "       'Aspartate_Aminotransferase', 'Total_Protiens', 'Albumin',\n",
              "       'Albumin_and_Globulin_Ratio', 'Label'],\n",
              "      dtype='object')"
            ]
          },
          "metadata": {},
          "execution_count": 4
        }
      ]
    },
    {
      "cell_type": "code",
      "metadata": {
        "id": "l4BxY-SuzRse",
        "colab": {
          "base_uri": "https://localhost:8080/",
          "height": 270
        },
        "outputId": "d47d80b8-4eae-483c-c413-7c0bd149a637"
      },
      "source": [
        "df.head()"
      ],
      "execution_count": null,
      "outputs": [
        {
          "output_type": "execute_result",
          "data": {
            "text/plain": [
              "   Age  Gender  Total_Bilirubin  Direct_Bilirubin  Alkaline_Phosphotase  \\\n",
              "0   40  Female              0.9               0.3                   293   \n",
              "1   78    Male              1.0               0.3                   152   \n",
              "2   60    Male              2.0               0.8                   190   \n",
              "3   75    Male             10.6               5.0                   562   \n",
              "4   19  Female              0.7               0.2                   186   \n",
              "\n",
              "   Alamine_Aminotransferase  Aspartate_Aminotransferase  Total_Protiens  \\\n",
              "0                       232                         245             6.8   \n",
              "1                        28                          70             6.3   \n",
              "2                        45                          40             6.0   \n",
              "3                        37                          29             5.1   \n",
              "4                       166                         397             5.5   \n",
              "\n",
              "   Albumin  Albumin_and_Globulin_Ratio  Label  \n",
              "0      3.1                         0.8      1  \n",
              "1      3.1                         0.9      1  \n",
              "2      2.8                         0.8      1  \n",
              "3      1.8                         0.5      1  \n",
              "4      3.0                         1.2      1  "
            ],
            "text/html": [
              "\n",
              "  <div id=\"df-0c5ee3b6-9025-4882-9fba-f864cf5bef79\">\n",
              "    <div class=\"colab-df-container\">\n",
              "      <div>\n",
              "<style scoped>\n",
              "    .dataframe tbody tr th:only-of-type {\n",
              "        vertical-align: middle;\n",
              "    }\n",
              "\n",
              "    .dataframe tbody tr th {\n",
              "        vertical-align: top;\n",
              "    }\n",
              "\n",
              "    .dataframe thead th {\n",
              "        text-align: right;\n",
              "    }\n",
              "</style>\n",
              "<table border=\"1\" class=\"dataframe\">\n",
              "  <thead>\n",
              "    <tr style=\"text-align: right;\">\n",
              "      <th></th>\n",
              "      <th>Age</th>\n",
              "      <th>Gender</th>\n",
              "      <th>Total_Bilirubin</th>\n",
              "      <th>Direct_Bilirubin</th>\n",
              "      <th>Alkaline_Phosphotase</th>\n",
              "      <th>Alamine_Aminotransferase</th>\n",
              "      <th>Aspartate_Aminotransferase</th>\n",
              "      <th>Total_Protiens</th>\n",
              "      <th>Albumin</th>\n",
              "      <th>Albumin_and_Globulin_Ratio</th>\n",
              "      <th>Label</th>\n",
              "    </tr>\n",
              "  </thead>\n",
              "  <tbody>\n",
              "    <tr>\n",
              "      <th>0</th>\n",
              "      <td>40</td>\n",
              "      <td>Female</td>\n",
              "      <td>0.9</td>\n",
              "      <td>0.3</td>\n",
              "      <td>293</td>\n",
              "      <td>232</td>\n",
              "      <td>245</td>\n",
              "      <td>6.8</td>\n",
              "      <td>3.1</td>\n",
              "      <td>0.8</td>\n",
              "      <td>1</td>\n",
              "    </tr>\n",
              "    <tr>\n",
              "      <th>1</th>\n",
              "      <td>78</td>\n",
              "      <td>Male</td>\n",
              "      <td>1.0</td>\n",
              "      <td>0.3</td>\n",
              "      <td>152</td>\n",
              "      <td>28</td>\n",
              "      <td>70</td>\n",
              "      <td>6.3</td>\n",
              "      <td>3.1</td>\n",
              "      <td>0.9</td>\n",
              "      <td>1</td>\n",
              "    </tr>\n",
              "    <tr>\n",
              "      <th>2</th>\n",
              "      <td>60</td>\n",
              "      <td>Male</td>\n",
              "      <td>2.0</td>\n",
              "      <td>0.8</td>\n",
              "      <td>190</td>\n",
              "      <td>45</td>\n",
              "      <td>40</td>\n",
              "      <td>6.0</td>\n",
              "      <td>2.8</td>\n",
              "      <td>0.8</td>\n",
              "      <td>1</td>\n",
              "    </tr>\n",
              "    <tr>\n",
              "      <th>3</th>\n",
              "      <td>75</td>\n",
              "      <td>Male</td>\n",
              "      <td>10.6</td>\n",
              "      <td>5.0</td>\n",
              "      <td>562</td>\n",
              "      <td>37</td>\n",
              "      <td>29</td>\n",
              "      <td>5.1</td>\n",
              "      <td>1.8</td>\n",
              "      <td>0.5</td>\n",
              "      <td>1</td>\n",
              "    </tr>\n",
              "    <tr>\n",
              "      <th>4</th>\n",
              "      <td>19</td>\n",
              "      <td>Female</td>\n",
              "      <td>0.7</td>\n",
              "      <td>0.2</td>\n",
              "      <td>186</td>\n",
              "      <td>166</td>\n",
              "      <td>397</td>\n",
              "      <td>5.5</td>\n",
              "      <td>3.0</td>\n",
              "      <td>1.2</td>\n",
              "      <td>1</td>\n",
              "    </tr>\n",
              "  </tbody>\n",
              "</table>\n",
              "</div>\n",
              "      <button class=\"colab-df-convert\" onclick=\"convertToInteractive('df-0c5ee3b6-9025-4882-9fba-f864cf5bef79')\"\n",
              "              title=\"Convert this dataframe to an interactive table.\"\n",
              "              style=\"display:none;\">\n",
              "        \n",
              "  <svg xmlns=\"http://www.w3.org/2000/svg\" height=\"24px\"viewBox=\"0 0 24 24\"\n",
              "       width=\"24px\">\n",
              "    <path d=\"M0 0h24v24H0V0z\" fill=\"none\"/>\n",
              "    <path d=\"M18.56 5.44l.94 2.06.94-2.06 2.06-.94-2.06-.94-.94-2.06-.94 2.06-2.06.94zm-11 1L8.5 8.5l.94-2.06 2.06-.94-2.06-.94L8.5 2.5l-.94 2.06-2.06.94zm10 10l.94 2.06.94-2.06 2.06-.94-2.06-.94-.94-2.06-.94 2.06-2.06.94z\"/><path d=\"M17.41 7.96l-1.37-1.37c-.4-.4-.92-.59-1.43-.59-.52 0-1.04.2-1.43.59L10.3 9.45l-7.72 7.72c-.78.78-.78 2.05 0 2.83L4 21.41c.39.39.9.59 1.41.59.51 0 1.02-.2 1.41-.59l7.78-7.78 2.81-2.81c.8-.78.8-2.07 0-2.86zM5.41 20L4 18.59l7.72-7.72 1.47 1.35L5.41 20z\"/>\n",
              "  </svg>\n",
              "      </button>\n",
              "      \n",
              "  <style>\n",
              "    .colab-df-container {\n",
              "      display:flex;\n",
              "      flex-wrap:wrap;\n",
              "      gap: 12px;\n",
              "    }\n",
              "\n",
              "    .colab-df-convert {\n",
              "      background-color: #E8F0FE;\n",
              "      border: none;\n",
              "      border-radius: 50%;\n",
              "      cursor: pointer;\n",
              "      display: none;\n",
              "      fill: #1967D2;\n",
              "      height: 32px;\n",
              "      padding: 0 0 0 0;\n",
              "      width: 32px;\n",
              "    }\n",
              "\n",
              "    .colab-df-convert:hover {\n",
              "      background-color: #E2EBFA;\n",
              "      box-shadow: 0px 1px 2px rgba(60, 64, 67, 0.3), 0px 1px 3px 1px rgba(60, 64, 67, 0.15);\n",
              "      fill: #174EA6;\n",
              "    }\n",
              "\n",
              "    [theme=dark] .colab-df-convert {\n",
              "      background-color: #3B4455;\n",
              "      fill: #D2E3FC;\n",
              "    }\n",
              "\n",
              "    [theme=dark] .colab-df-convert:hover {\n",
              "      background-color: #434B5C;\n",
              "      box-shadow: 0px 1px 3px 1px rgba(0, 0, 0, 0.15);\n",
              "      filter: drop-shadow(0px 1px 2px rgba(0, 0, 0, 0.3));\n",
              "      fill: #FFFFFF;\n",
              "    }\n",
              "  </style>\n",
              "\n",
              "      <script>\n",
              "        const buttonEl =\n",
              "          document.querySelector('#df-0c5ee3b6-9025-4882-9fba-f864cf5bef79 button.colab-df-convert');\n",
              "        buttonEl.style.display =\n",
              "          google.colab.kernel.accessAllowed ? 'block' : 'none';\n",
              "\n",
              "        async function convertToInteractive(key) {\n",
              "          const element = document.querySelector('#df-0c5ee3b6-9025-4882-9fba-f864cf5bef79');\n",
              "          const dataTable =\n",
              "            await google.colab.kernel.invokeFunction('convertToInteractive',\n",
              "                                                     [key], {});\n",
              "          if (!dataTable) return;\n",
              "\n",
              "          const docLinkHtml = 'Like what you see? Visit the ' +\n",
              "            '<a target=\"_blank\" href=https://colab.research.google.com/notebooks/data_table.ipynb>data table notebook</a>'\n",
              "            + ' to learn more about interactive tables.';\n",
              "          element.innerHTML = '';\n",
              "          dataTable['output_type'] = 'display_data';\n",
              "          await google.colab.output.renderOutput(dataTable, element);\n",
              "          const docLink = document.createElement('div');\n",
              "          docLink.innerHTML = docLinkHtml;\n",
              "          element.appendChild(docLink);\n",
              "        }\n",
              "      </script>\n",
              "    </div>\n",
              "  </div>\n",
              "  "
            ]
          },
          "metadata": {},
          "execution_count": 5
        }
      ]
    },
    {
      "cell_type": "markdown",
      "metadata": {
        "id": "43Tl7kMD3HiI"
      },
      "source": [
        "### The stage is yours"
      ]
    },
    {
      "cell_type": "code",
      "source": [
        "# 讀test資料\n",
        "test = pd.read_csv('project1_test.csv')"
      ],
      "metadata": {
        "id": "sJTiv8iSCXVU"
      },
      "execution_count": null,
      "outputs": []
    },
    {
      "cell_type": "code",
      "source": [
        "# 性別讀取\n",
        "df['Gender'][df['Gender']=='Male']=1\n",
        "df['Gender'][df['Gender']=='Female']=0\n",
        "\n",
        "test['Gender'][test['Gender']=='Male']=1\n",
        "test['Gender'][test['Gender']=='Female']=0\n",
        "\n",
        "test"
      ],
      "metadata": {
        "colab": {
          "base_uri": "https://localhost:8080/",
          "height": 468
        },
        "id": "BFmXEmZ_CXOS",
        "outputId": "8f8be0a3-0594-4bd2-8560-ce4f54f6e987"
      },
      "execution_count": null,
      "outputs": [
        {
          "output_type": "execute_result",
          "data": {
            "text/plain": [
              "     Age Gender  Total_Bilirubin  Direct_Bilirubin  Alkaline_Phosphotase  \\\n",
              "0     18      1              0.8               0.2                   282   \n",
              "1     34      1              4.1               2.0                   289   \n",
              "2     49      1              2.0               0.6                   209   \n",
              "3     65      1              7.9               4.3                   282   \n",
              "4     40      0              0.9               0.3                   293   \n",
              "..   ...    ...              ...               ...                   ...   \n",
              "111   50      1              5.8               3.0                   661   \n",
              "112   21      1              0.7               0.2                   135   \n",
              "113   27      1              0.7               0.2                   243   \n",
              "114   48      1              0.7               0.2                   208   \n",
              "115   65      1              0.8               0.2                   201   \n",
              "\n",
              "     Alamine_Aminotransferase  Aspartate_Aminotransferase  Total_Protiens  \\\n",
              "0                          72                         140             5.5   \n",
              "1                         875                         731             5.0   \n",
              "2                          48                          32             5.7   \n",
              "3                          50                          72             6.0   \n",
              "4                         232                         245             6.8   \n",
              "..                        ...                         ...             ...   \n",
              "111                       181                         285             5.7   \n",
              "112                        27                          26             6.4   \n",
              "113                        21                          23             5.3   \n",
              "114                        15                          30             4.6   \n",
              "115                        18                          22             5.4   \n",
              "\n",
              "     Albumin  Albumin_and_Globulin_Ratio  \n",
              "0        2.5                        0.80  \n",
              "1        2.7                        1.10  \n",
              "2        3.0                        1.10  \n",
              "3        3.0                        1.00  \n",
              "4        3.1                        0.80  \n",
              "..       ...                         ...  \n",
              "111      2.3                        0.67  \n",
              "112      3.3                        1.00  \n",
              "113      2.3                        0.70  \n",
              "114      2.1                        0.80  \n",
              "115      2.9                        1.10  \n",
              "\n",
              "[116 rows x 10 columns]"
            ],
            "text/html": [
              "\n",
              "  <div id=\"df-238a6d99-6476-4779-850e-1a136e8099af\">\n",
              "    <div class=\"colab-df-container\">\n",
              "      <div>\n",
              "<style scoped>\n",
              "    .dataframe tbody tr th:only-of-type {\n",
              "        vertical-align: middle;\n",
              "    }\n",
              "\n",
              "    .dataframe tbody tr th {\n",
              "        vertical-align: top;\n",
              "    }\n",
              "\n",
              "    .dataframe thead th {\n",
              "        text-align: right;\n",
              "    }\n",
              "</style>\n",
              "<table border=\"1\" class=\"dataframe\">\n",
              "  <thead>\n",
              "    <tr style=\"text-align: right;\">\n",
              "      <th></th>\n",
              "      <th>Age</th>\n",
              "      <th>Gender</th>\n",
              "      <th>Total_Bilirubin</th>\n",
              "      <th>Direct_Bilirubin</th>\n",
              "      <th>Alkaline_Phosphotase</th>\n",
              "      <th>Alamine_Aminotransferase</th>\n",
              "      <th>Aspartate_Aminotransferase</th>\n",
              "      <th>Total_Protiens</th>\n",
              "      <th>Albumin</th>\n",
              "      <th>Albumin_and_Globulin_Ratio</th>\n",
              "    </tr>\n",
              "  </thead>\n",
              "  <tbody>\n",
              "    <tr>\n",
              "      <th>0</th>\n",
              "      <td>18</td>\n",
              "      <td>1</td>\n",
              "      <td>0.8</td>\n",
              "      <td>0.2</td>\n",
              "      <td>282</td>\n",
              "      <td>72</td>\n",
              "      <td>140</td>\n",
              "      <td>5.5</td>\n",
              "      <td>2.5</td>\n",
              "      <td>0.80</td>\n",
              "    </tr>\n",
              "    <tr>\n",
              "      <th>1</th>\n",
              "      <td>34</td>\n",
              "      <td>1</td>\n",
              "      <td>4.1</td>\n",
              "      <td>2.0</td>\n",
              "      <td>289</td>\n",
              "      <td>875</td>\n",
              "      <td>731</td>\n",
              "      <td>5.0</td>\n",
              "      <td>2.7</td>\n",
              "      <td>1.10</td>\n",
              "    </tr>\n",
              "    <tr>\n",
              "      <th>2</th>\n",
              "      <td>49</td>\n",
              "      <td>1</td>\n",
              "      <td>2.0</td>\n",
              "      <td>0.6</td>\n",
              "      <td>209</td>\n",
              "      <td>48</td>\n",
              "      <td>32</td>\n",
              "      <td>5.7</td>\n",
              "      <td>3.0</td>\n",
              "      <td>1.10</td>\n",
              "    </tr>\n",
              "    <tr>\n",
              "      <th>3</th>\n",
              "      <td>65</td>\n",
              "      <td>1</td>\n",
              "      <td>7.9</td>\n",
              "      <td>4.3</td>\n",
              "      <td>282</td>\n",
              "      <td>50</td>\n",
              "      <td>72</td>\n",
              "      <td>6.0</td>\n",
              "      <td>3.0</td>\n",
              "      <td>1.00</td>\n",
              "    </tr>\n",
              "    <tr>\n",
              "      <th>4</th>\n",
              "      <td>40</td>\n",
              "      <td>0</td>\n",
              "      <td>0.9</td>\n",
              "      <td>0.3</td>\n",
              "      <td>293</td>\n",
              "      <td>232</td>\n",
              "      <td>245</td>\n",
              "      <td>6.8</td>\n",
              "      <td>3.1</td>\n",
              "      <td>0.80</td>\n",
              "    </tr>\n",
              "    <tr>\n",
              "      <th>...</th>\n",
              "      <td>...</td>\n",
              "      <td>...</td>\n",
              "      <td>...</td>\n",
              "      <td>...</td>\n",
              "      <td>...</td>\n",
              "      <td>...</td>\n",
              "      <td>...</td>\n",
              "      <td>...</td>\n",
              "      <td>...</td>\n",
              "      <td>...</td>\n",
              "    </tr>\n",
              "    <tr>\n",
              "      <th>111</th>\n",
              "      <td>50</td>\n",
              "      <td>1</td>\n",
              "      <td>5.8</td>\n",
              "      <td>3.0</td>\n",
              "      <td>661</td>\n",
              "      <td>181</td>\n",
              "      <td>285</td>\n",
              "      <td>5.7</td>\n",
              "      <td>2.3</td>\n",
              "      <td>0.67</td>\n",
              "    </tr>\n",
              "    <tr>\n",
              "      <th>112</th>\n",
              "      <td>21</td>\n",
              "      <td>1</td>\n",
              "      <td>0.7</td>\n",
              "      <td>0.2</td>\n",
              "      <td>135</td>\n",
              "      <td>27</td>\n",
              "      <td>26</td>\n",
              "      <td>6.4</td>\n",
              "      <td>3.3</td>\n",
              "      <td>1.00</td>\n",
              "    </tr>\n",
              "    <tr>\n",
              "      <th>113</th>\n",
              "      <td>27</td>\n",
              "      <td>1</td>\n",
              "      <td>0.7</td>\n",
              "      <td>0.2</td>\n",
              "      <td>243</td>\n",
              "      <td>21</td>\n",
              "      <td>23</td>\n",
              "      <td>5.3</td>\n",
              "      <td>2.3</td>\n",
              "      <td>0.70</td>\n",
              "    </tr>\n",
              "    <tr>\n",
              "      <th>114</th>\n",
              "      <td>48</td>\n",
              "      <td>1</td>\n",
              "      <td>0.7</td>\n",
              "      <td>0.2</td>\n",
              "      <td>208</td>\n",
              "      <td>15</td>\n",
              "      <td>30</td>\n",
              "      <td>4.6</td>\n",
              "      <td>2.1</td>\n",
              "      <td>0.80</td>\n",
              "    </tr>\n",
              "    <tr>\n",
              "      <th>115</th>\n",
              "      <td>65</td>\n",
              "      <td>1</td>\n",
              "      <td>0.8</td>\n",
              "      <td>0.2</td>\n",
              "      <td>201</td>\n",
              "      <td>18</td>\n",
              "      <td>22</td>\n",
              "      <td>5.4</td>\n",
              "      <td>2.9</td>\n",
              "      <td>1.10</td>\n",
              "    </tr>\n",
              "  </tbody>\n",
              "</table>\n",
              "<p>116 rows × 10 columns</p>\n",
              "</div>\n",
              "      <button class=\"colab-df-convert\" onclick=\"convertToInteractive('df-238a6d99-6476-4779-850e-1a136e8099af')\"\n",
              "              title=\"Convert this dataframe to an interactive table.\"\n",
              "              style=\"display:none;\">\n",
              "        \n",
              "  <svg xmlns=\"http://www.w3.org/2000/svg\" height=\"24px\"viewBox=\"0 0 24 24\"\n",
              "       width=\"24px\">\n",
              "    <path d=\"M0 0h24v24H0V0z\" fill=\"none\"/>\n",
              "    <path d=\"M18.56 5.44l.94 2.06.94-2.06 2.06-.94-2.06-.94-.94-2.06-.94 2.06-2.06.94zm-11 1L8.5 8.5l.94-2.06 2.06-.94-2.06-.94L8.5 2.5l-.94 2.06-2.06.94zm10 10l.94 2.06.94-2.06 2.06-.94-2.06-.94-.94-2.06-.94 2.06-2.06.94z\"/><path d=\"M17.41 7.96l-1.37-1.37c-.4-.4-.92-.59-1.43-.59-.52 0-1.04.2-1.43.59L10.3 9.45l-7.72 7.72c-.78.78-.78 2.05 0 2.83L4 21.41c.39.39.9.59 1.41.59.51 0 1.02-.2 1.41-.59l7.78-7.78 2.81-2.81c.8-.78.8-2.07 0-2.86zM5.41 20L4 18.59l7.72-7.72 1.47 1.35L5.41 20z\"/>\n",
              "  </svg>\n",
              "      </button>\n",
              "      \n",
              "  <style>\n",
              "    .colab-df-container {\n",
              "      display:flex;\n",
              "      flex-wrap:wrap;\n",
              "      gap: 12px;\n",
              "    }\n",
              "\n",
              "    .colab-df-convert {\n",
              "      background-color: #E8F0FE;\n",
              "      border: none;\n",
              "      border-radius: 50%;\n",
              "      cursor: pointer;\n",
              "      display: none;\n",
              "      fill: #1967D2;\n",
              "      height: 32px;\n",
              "      padding: 0 0 0 0;\n",
              "      width: 32px;\n",
              "    }\n",
              "\n",
              "    .colab-df-convert:hover {\n",
              "      background-color: #E2EBFA;\n",
              "      box-shadow: 0px 1px 2px rgba(60, 64, 67, 0.3), 0px 1px 3px 1px rgba(60, 64, 67, 0.15);\n",
              "      fill: #174EA6;\n",
              "    }\n",
              "\n",
              "    [theme=dark] .colab-df-convert {\n",
              "      background-color: #3B4455;\n",
              "      fill: #D2E3FC;\n",
              "    }\n",
              "\n",
              "    [theme=dark] .colab-df-convert:hover {\n",
              "      background-color: #434B5C;\n",
              "      box-shadow: 0px 1px 3px 1px rgba(0, 0, 0, 0.15);\n",
              "      filter: drop-shadow(0px 1px 2px rgba(0, 0, 0, 0.3));\n",
              "      fill: #FFFFFF;\n",
              "    }\n",
              "  </style>\n",
              "\n",
              "      <script>\n",
              "        const buttonEl =\n",
              "          document.querySelector('#df-238a6d99-6476-4779-850e-1a136e8099af button.colab-df-convert');\n",
              "        buttonEl.style.display =\n",
              "          google.colab.kernel.accessAllowed ? 'block' : 'none';\n",
              "\n",
              "        async function convertToInteractive(key) {\n",
              "          const element = document.querySelector('#df-238a6d99-6476-4779-850e-1a136e8099af');\n",
              "          const dataTable =\n",
              "            await google.colab.kernel.invokeFunction('convertToInteractive',\n",
              "                                                     [key], {});\n",
              "          if (!dataTable) return;\n",
              "\n",
              "          const docLinkHtml = 'Like what you see? Visit the ' +\n",
              "            '<a target=\"_blank\" href=https://colab.research.google.com/notebooks/data_table.ipynb>data table notebook</a>'\n",
              "            + ' to learn more about interactive tables.';\n",
              "          element.innerHTML = '';\n",
              "          dataTable['output_type'] = 'display_data';\n",
              "          await google.colab.output.renderOutput(dataTable, element);\n",
              "          const docLink = document.createElement('div');\n",
              "          docLink.innerHTML = docLinkHtml;\n",
              "          element.appendChild(docLink);\n",
              "        }\n",
              "      </script>\n",
              "    </div>\n",
              "  </div>\n",
              "  "
            ]
          },
          "metadata": {},
          "execution_count": 21
        }
      ]
    },
    {
      "cell_type": "code",
      "source": [
        "# 找缺失值\n",
        "df.isnull()\n",
        "\n",
        "# 處理缺失值\n",
        "df.fillna(df.mean(),inplace=True)"
      ],
      "metadata": {
        "id": "97STg9y7Rdjx"
      },
      "execution_count": null,
      "outputs": []
    },
    {
      "cell_type": "code",
      "source": [
        "from sklearn.linear_model import LogisticRegression\n",
        "from sklearn.model_selection import train_test_split\n",
        "\n",
        "# 移除Label並取得剩下欄位資料\n",
        "X = df.drop(labels=['Label'],axis=1).values  \n",
        "y = df['Label'].values\n",
        "\n",
        "# 分割為學習資料集與測試資料集\n",
        "X_train, X_test, y_train, y_test = train_test_split(X, y)\n",
        "\n",
        "# 建立邏輯迴歸的實體\n",
        "logisticModel = LogisticRegression()\n",
        "\n",
        "# 學習\n",
        "logisticModel.fit(X_train, y_train)"
      ],
      "metadata": {
        "colab": {
          "base_uri": "https://localhost:8080/"
        },
        "id": "CG5rGmooLkn1",
        "outputId": "59ab9783-9351-48d1-84dd-4e06c5a0a517"
      },
      "execution_count": null,
      "outputs": [
        {
          "output_type": "execute_result",
          "data": {
            "text/plain": [
              "LogisticRegression()"
            ]
          },
          "metadata": {},
          "execution_count": 23
        }
      ]
    },
    {
      "cell_type": "code",
      "source": [
        "# 預測\n",
        "y_pred = logisticModel.predict(X_test)\n",
        "y_pred"
      ],
      "metadata": {
        "id": "82I8A29T2jBy",
        "colab": {
          "base_uri": "https://localhost:8080/"
        },
        "outputId": "3d40b5c5-1ba3-4e75-d3af-85443e867cec"
      },
      "execution_count": null,
      "outputs": [
        {
          "output_type": "execute_result",
          "data": {
            "text/plain": [
              "array([1, 1, 1, 1, 1, 1, 1, 0, 1, 1, 1, 1, 0, 1, 0, 1, 0, 1, 1, 1, 1, 1,\n",
              "       1, 1, 1, 1, 1, 0, 1, 1, 1, 1, 1, 1, 1, 0, 1, 1, 1, 1, 1, 1, 0, 1,\n",
              "       1, 1, 1, 1, 0, 1, 1, 1, 1, 1, 1, 0, 1, 1, 1, 1, 1, 0, 1, 1, 1, 1,\n",
              "       1, 1, 1, 0, 1, 1, 1, 1, 0, 1, 1, 1, 0, 1, 1, 1, 1, 0, 1, 1, 1, 1,\n",
              "       0, 0, 1, 1, 1, 1, 1, 1, 1, 1, 1, 1, 1, 1, 1, 1, 1, 1, 1, 1, 1, 1,\n",
              "       1, 0, 1, 1, 0, 1, 1])"
            ]
          },
          "metadata": {},
          "execution_count": 24
        }
      ]
    },
    {
      "cell_type": "code",
      "source": [
        "# 預測成功的比例\n",
        "print('訓練集: ',logisticModel.score(X_train,y_train))\n",
        "print('測試集: ',logisticModel.score(X_test,y_test))"
      ],
      "metadata": {
        "colab": {
          "base_uri": "https://localhost:8080/"
        },
        "id": "rKZ2t6kARXNM",
        "outputId": "1f0e1dbf-b00e-4476-a69c-6714e7e7f999"
      },
      "execution_count": null,
      "outputs": [
        {
          "output_type": "stream",
          "name": "stdout",
          "text": [
            "訓練集:  0.74\n",
            "測試集:  0.7264957264957265\n"
          ]
        }
      ]
    },
    {
      "cell_type": "markdown",
      "source": [
        "### Make prediction and submission file"
      ],
      "metadata": {
        "id": "8TcmoX2ikASA"
      }
    },
    {
      "cell_type": "code",
      "source": [
        "df_submit = pd.DataFrame([], columns=['Id', 'Category'])\n",
        "df_submit['Id'] = [f'{i:03d}' for i in range(len(test))]\n",
        "df_submit['Category'] = logisticModel.predict(test)"
      ],
      "metadata": {
        "id": "RKS43prYkCrn"
      },
      "execution_count": null,
      "outputs": []
    },
    {
      "cell_type": "code",
      "source": [
        "df_submit.to_csv('submission.csv', index=None)"
      ],
      "metadata": {
        "id": "BhL0adR_kEVY"
      },
      "execution_count": null,
      "outputs": []
    }
  ]
}